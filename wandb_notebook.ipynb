{
 "cells": [
  {
   "cell_type": "code",
   "execution_count": 1,
   "metadata": {},
   "outputs": [
    {
     "data": {
      "text/plain": [
       "<torch._C.Generator at 0x1fb267ad630>"
      ]
     },
     "execution_count": 1,
     "metadata": {},
     "output_type": "execute_result"
    }
   ],
   "source": [
    "# import time\n",
    "# import copy\n",
    "import wandb\n",
    "import torch\n",
    "import warnings\n",
    "warnings.filterwarnings('ignore')\n",
    "# import torch_geometric\n",
    "import os\n",
    "\n",
    "from torch import nn, optim\n",
    "from torch.nn import functional as F\n",
    "from torch_geometric import nn as gnn\n",
    "from torch_geometric.loader import DataLoader\n",
    "from torch_geometric.datasets import ModelNet\n",
    "# from IPython.display import display, clear_output\n",
    "# from torch_geometric.utils import remove_self_loops\n",
    "# from sklearn.model_selection import train_test_split\n",
    "from torch_geometric.nn import MLP, PointNetConv, fps, global_max_pool, radius\n",
    "# from torch_geometric.transforms import Compose, RandomRotate, SamplePoints, KNNGraph, NormalizeScale\n",
    "import torch_geometric.transforms as T\n",
    "\n",
    "\n",
    "import numpy as np\n",
    "import matplotlib.pyplot as plt\n",
    "\n",
    "from model import GNN, PNET, PointNet, PointViG, PointNet2\n",
    "\n",
    "import random\n",
    "from glob import glob\n",
    "from tqdm.auto import tqdm\n",
    "\n",
    "import wandb\n",
    "\n",
    "\n",
    "torch.manual_seed(seed=42)"
   ]
  },
  {
   "cell_type": "code",
   "execution_count": 2,
   "metadata": {},
   "outputs": [
    {
     "name": "stderr",
     "output_type": "stream",
     "text": [
      "Failed to detect the name of this notebook, you can set it manually with the WANDB_NOTEBOOK_NAME environment variable to enable code saving.\n",
      "\u001b[34m\u001b[1mwandb\u001b[0m: Currently logged in as: \u001b[33msaleemkheralden\u001b[0m (\u001b[33mtechnionsaleem\u001b[0m). Use \u001b[1m`wandb login --relogin`\u001b[0m to force relogin\n"
     ]
    },
    {
     "data": {
      "text/html": [
       "wandb version 0.18.3 is available!  To upgrade, please run:\n",
       " $ pip install wandb --upgrade"
      ],
      "text/plain": [
       "<IPython.core.display.HTML object>"
      ]
     },
     "metadata": {},
     "output_type": "display_data"
    },
    {
     "data": {
      "text/html": [
       "Tracking run with wandb version 0.17.0"
      ],
      "text/plain": [
       "<IPython.core.display.HTML object>"
      ]
     },
     "metadata": {},
     "output_type": "display_data"
    },
    {
     "data": {
      "text/html": [
       "Run data is saved locally in <code>c:\\Users\\salee\\OneDrive - Technion\\Data science\\semester 8\\DeepLearningGeo\\Project\\wandb\\run-20241002_153749-5qctfrzq</code>"
      ],
      "text/plain": [
       "<IPython.core.display.HTML object>"
      ]
     },
     "metadata": {},
     "output_type": "display_data"
    },
    {
     "data": {
      "text/html": [
       "Syncing run <strong><a href='https://wandb.ai/technionsaleem/pyg-point-cloud/runs/5qctfrzq' target=\"_blank\">final-experiment/modelnet10/2</a></strong> to <a href='https://wandb.ai/technionsaleem/pyg-point-cloud' target=\"_blank\">Weights & Biases</a> (<a href='https://wandb.me/run' target=\"_blank\">docs</a>)<br/>"
      ],
      "text/plain": [
       "<IPython.core.display.HTML object>"
      ]
     },
     "metadata": {},
     "output_type": "display_data"
    },
    {
     "data": {
      "text/html": [
       " View project at <a href='https://wandb.ai/technionsaleem/pyg-point-cloud' target=\"_blank\">https://wandb.ai/technionsaleem/pyg-point-cloud</a>"
      ],
      "text/plain": [
       "<IPython.core.display.HTML object>"
      ]
     },
     "metadata": {},
     "output_type": "display_data"
    },
    {
     "data": {
      "text/html": [
       " View run at <a href='https://wandb.ai/technionsaleem/pyg-point-cloud/runs/5qctfrzq' target=\"_blank\">https://wandb.ai/technionsaleem/pyg-point-cloud/runs/5qctfrzq</a>"
      ],
      "text/plain": [
       "<IPython.core.display.HTML object>"
      ]
     },
     "metadata": {},
     "output_type": "display_data"
    }
   ],
   "source": [
    "wandb_project = \"pyg-point-cloud\" #@param {\"type\": \"string\"}\n",
    "wandb_run_name = \"final-experiment/modelnet10/2\" #@param {\"type\": \"string\"}\n",
    "\n",
    "wandb.init(project=wandb_project, name=wandb_run_name, job_type=\"baseline-train\")\n",
    "\n",
    "# Set experiment configs to be synced with wandb\n",
    "config = wandb.config\n",
    "config.modelnet_dataset_alias = \"ModelNet10\" #@param [\"ModelNet10\", \"ModelNet40\"] {type:\"raw\"}\n",
    "\n",
    "config.seed = 4242 #@param {type:\"number\"}\n",
    "random.seed(config.seed)\n",
    "torch.manual_seed(config.seed)\n",
    "\n",
    "config.sample_points = 2048 #@param {type:\"slider\", min:256, max:4096, step:16}\n",
    "\n",
    "config.categories = sorted([\n",
    "    x.split(os.sep)[-2]\n",
    "    for x in glob(os.path.join(\n",
    "        config.modelnet_dataset_alias, \"raw\", '*', ''\n",
    "    ))\n",
    "])\n",
    "\n",
    "config.batch_size = 16 #@param {type:\"slider\", min:4, max:128, step:4}\n",
    "config.num_workers = 6 #@param {type:\"slider\", min:1, max:10, step:1}\n",
    "\n",
    "config.device = 'cuda' if torch.cuda.is_available() else 'cpu'\n",
    "device = torch.device(config.device)\n",
    "\n",
    "config.set_abstraction_ratio_1 = 0.748 #@param {type:\"slider\", min:0.1, max:1.0, step:0.01}\n",
    "config.set_abstraction_radius_1 = 0.4817 #@param {type:\"slider\", min:0.1, max:1.0, step:0.01}\n",
    "config.set_abstraction_ratio_2 = 0.3316 #@param {type:\"slider\", min:0.1, max:1.0, step:0.01}\n",
    "config.set_abstraction_radius_2 = 0.2447 #@param {type:\"slider\", min:0.1, max:1.0, step:0.01}\n",
    "config.dropout = 0.1 #@param {type:\"slider\", min:0.1, max:1.0, step:0.1}\n",
    "\n",
    "config.learning_rate = 1e-4 #@param {type:\"number\"}\n",
    "config.epochs = 10 #@param {type:\"slider\", min:1, max:100, step:1}\n",
    "config.num_visualization_samples = 20 #@param {type:\"slider\", min:1, max:100, step:1}"
   ]
  },
  {
   "cell_type": "code",
   "execution_count": 3,
   "metadata": {},
   "outputs": [],
   "source": [
    "pre_transform = T.NormalizeScale()\n",
    "transform = T.SamplePoints(config.sample_points)\n",
    "\n",
    "\n",
    "train_dataset = ModelNet(\n",
    "    'ModelNet/',\n",
    "\tname='10',\n",
    "    train=True,\n",
    "    transform=transform,\n",
    "    pre_transform=pre_transform\n",
    ")\n",
    "train_loader = DataLoader(\n",
    "    train_dataset,\n",
    "    batch_size=config.batch_size,\n",
    "    shuffle=True,\n",
    "    num_workers=config.num_workers\n",
    ")\n",
    "\n",
    "val_dataset = ModelNet(\n",
    "    'ModelNet/',\n",
    "\tname='10',\n",
    "    train=False,\n",
    "    transform=transform,\n",
    "    pre_transform=pre_transform\n",
    ")\n",
    "val_loader = DataLoader(\n",
    "    val_dataset,\n",
    "    batch_size=config.batch_size,\n",
    "    shuffle=False,\n",
    "    num_workers=config.num_workers\n",
    ")\n",
    "\n",
    "random_indices = random.sample(\n",
    "    list(range(len(val_dataset))),\n",
    "    config.num_visualization_samples\n",
    ")\n",
    "vizualization_loader = DataLoader(\n",
    "    [val_dataset[idx] for idx in random_indices],\n",
    "    batch_size=1,\n",
    "    shuffle=False,\n",
    "    num_workers=config.num_workers\n",
    ")"
   ]
  },
  {
   "cell_type": "code",
   "execution_count": 4,
   "metadata": {},
   "outputs": [],
   "source": [
    "class SetAbstraction(torch.nn.Module):\n",
    "    def __init__(self, ratio, r, nn):\n",
    "        super().__init__()\n",
    "        self.ratio = ratio\n",
    "        self.r = r\n",
    "        self.conv = PointNetConv(nn, add_self_loops=False)\n",
    "\n",
    "    def forward(self, x, pos, batch):\n",
    "        idx = fps(pos, batch, ratio=self.ratio)\n",
    "        row, col = radius(pos, pos[idx], self.r, batch, batch[idx],\n",
    "                          max_num_neighbors=64)\n",
    "        edge_index = torch.stack([col, row], dim=0)\n",
    "        x_dst = None if x is None else x[idx]\n",
    "        x = self.conv((x, x_dst), (pos, pos[idx]), edge_index)\n",
    "        pos, batch = pos[idx], batch[idx]\n",
    "        return x, pos, batch\n"
   ]
  },
  {
   "cell_type": "code",
   "execution_count": 5,
   "metadata": {},
   "outputs": [],
   "source": [
    "\n",
    "class GlobalSetAbstraction(torch.nn.Module):\n",
    "    def __init__(self, nn):\n",
    "        super().__init__()\n",
    "        self.nn = nn\n",
    "\n",
    "    def forward(self, x, pos, batch):\n",
    "        x = self.nn(torch.cat([x, pos], dim=1))\n",
    "        x = global_max_pool(x, batch)\n",
    "        pos = pos.new_zeros((x.size(0), 3))\n",
    "        batch = torch.arange(x.size(0), device=batch.device)\n",
    "        return x, pos, batch\n"
   ]
  },
  {
   "cell_type": "code",
   "execution_count": 6,
   "metadata": {},
   "outputs": [],
   "source": [
    "\n",
    "class PointNet2(torch.nn.Module):\n",
    "    def __init__(\n",
    "        self,\n",
    "        set_abstraction_ratio_1, set_abstraction_ratio_2,\n",
    "        set_abstraction_radius_1, set_abstraction_radius_2, dropout\n",
    "    ):\n",
    "        super().__init__()\n",
    "\n",
    "        # Input channels account for both `pos` and node features.\n",
    "        self.sa1_module = SetAbstraction(\n",
    "            set_abstraction_ratio_1,\n",
    "            set_abstraction_radius_1,\n",
    "            MLP([3, 64, 64, 128])\n",
    "        )\n",
    "        self.sa2_module = SetAbstraction(\n",
    "            set_abstraction_ratio_2,\n",
    "            set_abstraction_radius_2,\n",
    "            MLP([128 + 3, 128, 128, 256])\n",
    "        )\n",
    "        self.sa3_module = GlobalSetAbstraction(MLP([256 + 3, 256, 512, 1024]))\n",
    "\n",
    "        self.mlp = MLP([1024, 512, 256, 10], dropout=dropout, norm=None)\n",
    "\n",
    "    def forward(self, data):\n",
    "        sa0_out = (data.x, data.pos, data.batch)\n",
    "        sa1_out = self.sa1_module(*sa0_out)\n",
    "        sa2_out = self.sa2_module(*sa1_out)\n",
    "        sa3_out = self.sa3_module(*sa2_out)\n",
    "        x, pos, batch = sa3_out\n",
    "\n",
    "        return self.mlp(x).log_softmax(dim=-1)\n",
    "\n",
    "## Training PointNet++ and Logging Metrics on Weights & Biases"
   ]
  },
  {
   "cell_type": "code",
   "execution_count": 7,
   "metadata": {},
   "outputs": [],
   "source": [
    "# Define PointNet++ model.\n",
    "model = PointNet2(\n",
    "    config.set_abstraction_ratio_1,\n",
    "    config.set_abstraction_ratio_2,\n",
    "    config.set_abstraction_radius_1,\n",
    "    config.set_abstraction_radius_2,\n",
    "    config.dropout\n",
    ").to(device)\n",
    "\n",
    "# Define Optimizer\n",
    "optimizer = torch.optim.Adam(\n",
    "    model.parameters(), lr=config.learning_rate\n",
    ")\n"
   ]
  },
  {
   "cell_type": "code",
   "execution_count": 8,
   "metadata": {},
   "outputs": [
    {
     "data": {
      "application/vnd.jupyter.widget-view+json": {
       "model_id": "b4d2780535ff49b1a174cccaa0482bb7",
       "version_major": 2,
       "version_minor": 0
      },
      "text/plain": [
       "Training Epoch 1/10:   0%|          | 0/250 [00:00<?, ?it/s]"
      ]
     },
     "metadata": {},
     "output_type": "display_data"
    },
    {
     "data": {
      "application/vnd.jupyter.widget-view+json": {
       "model_id": "e3586cba2a5b421a9bcd094b13f170c5",
       "version_major": 2,
       "version_minor": 0
      },
      "text/plain": [
       "Validation Epoch 1/10:   0%|          | 0/57 [00:00<?, ?it/s]"
      ]
     },
     "metadata": {},
     "output_type": "display_data"
    },
    {
     "data": {
      "application/vnd.jupyter.widget-view+json": {
       "model_id": "96b4d240c2c241d1b1affa4d4f556f77",
       "version_major": 2,
       "version_minor": 0
      },
      "text/plain": [
       "Training Epoch 2/10:   0%|          | 0/250 [00:00<?, ?it/s]"
      ]
     },
     "metadata": {},
     "output_type": "display_data"
    },
    {
     "data": {
      "application/vnd.jupyter.widget-view+json": {
       "model_id": "1e248717c8344ff3a7f849232e235b6f",
       "version_major": 2,
       "version_minor": 0
      },
      "text/plain": [
       "Validation Epoch 2/10:   0%|          | 0/57 [00:00<?, ?it/s]"
      ]
     },
     "metadata": {},
     "output_type": "display_data"
    },
    {
     "data": {
      "application/vnd.jupyter.widget-view+json": {
       "model_id": "f4a7510ad1b1419eb913d6a32e78f33a",
       "version_major": 2,
       "version_minor": 0
      },
      "text/plain": [
       "Training Epoch 3/10:   0%|          | 0/250 [00:00<?, ?it/s]"
      ]
     },
     "metadata": {},
     "output_type": "display_data"
    },
    {
     "data": {
      "application/vnd.jupyter.widget-view+json": {
       "model_id": "cf4813b9bb8644bc8185f51bab34e2a6",
       "version_major": 2,
       "version_minor": 0
      },
      "text/plain": [
       "Validation Epoch 3/10:   0%|          | 0/57 [00:00<?, ?it/s]"
      ]
     },
     "metadata": {},
     "output_type": "display_data"
    },
    {
     "data": {
      "application/vnd.jupyter.widget-view+json": {
       "model_id": "454223d141344ba8958985322e4a5836",
       "version_major": 2,
       "version_minor": 0
      },
      "text/plain": [
       "Training Epoch 4/10:   0%|          | 0/250 [00:00<?, ?it/s]"
      ]
     },
     "metadata": {},
     "output_type": "display_data"
    },
    {
     "data": {
      "application/vnd.jupyter.widget-view+json": {
       "model_id": "d1dede0e5ea040adb66597b10a9d8945",
       "version_major": 2,
       "version_minor": 0
      },
      "text/plain": [
       "Validation Epoch 4/10:   0%|          | 0/57 [00:00<?, ?it/s]"
      ]
     },
     "metadata": {},
     "output_type": "display_data"
    },
    {
     "data": {
      "application/vnd.jupyter.widget-view+json": {
       "model_id": "9e90833d2e2947179c3183ac16d22a66",
       "version_major": 2,
       "version_minor": 0
      },
      "text/plain": [
       "Training Epoch 5/10:   0%|          | 0/250 [00:00<?, ?it/s]"
      ]
     },
     "metadata": {},
     "output_type": "display_data"
    },
    {
     "data": {
      "application/vnd.jupyter.widget-view+json": {
       "model_id": "b975913a5c35491987860ee77e7472fc",
       "version_major": 2,
       "version_minor": 0
      },
      "text/plain": [
       "Validation Epoch 5/10:   0%|          | 0/57 [00:00<?, ?it/s]"
      ]
     },
     "metadata": {},
     "output_type": "display_data"
    },
    {
     "data": {
      "application/vnd.jupyter.widget-view+json": {
       "model_id": "15bf9b385a23441185ac5f098648e82a",
       "version_major": 2,
       "version_minor": 0
      },
      "text/plain": [
       "Training Epoch 6/10:   0%|          | 0/250 [00:00<?, ?it/s]"
      ]
     },
     "metadata": {},
     "output_type": "display_data"
    },
    {
     "data": {
      "application/vnd.jupyter.widget-view+json": {
       "model_id": "98babea1b898426bb8a9a307bd6670a9",
       "version_major": 2,
       "version_minor": 0
      },
      "text/plain": [
       "Validation Epoch 6/10:   0%|          | 0/57 [00:00<?, ?it/s]"
      ]
     },
     "metadata": {},
     "output_type": "display_data"
    },
    {
     "data": {
      "application/vnd.jupyter.widget-view+json": {
       "model_id": "7d64e0dc5f6d4eb5af78374e5da6a657",
       "version_major": 2,
       "version_minor": 0
      },
      "text/plain": [
       "Training Epoch 7/10:   0%|          | 0/250 [00:00<?, ?it/s]"
      ]
     },
     "metadata": {},
     "output_type": "display_data"
    },
    {
     "data": {
      "application/vnd.jupyter.widget-view+json": {
       "model_id": "7a743ec19ef4423b9bc9aca7b6cad959",
       "version_major": 2,
       "version_minor": 0
      },
      "text/plain": [
       "Validation Epoch 7/10:   0%|          | 0/57 [00:00<?, ?it/s]"
      ]
     },
     "metadata": {},
     "output_type": "display_data"
    },
    {
     "data": {
      "application/vnd.jupyter.widget-view+json": {
       "model_id": "d741ce31490c43a89595b6ac0a69a49e",
       "version_major": 2,
       "version_minor": 0
      },
      "text/plain": [
       "Training Epoch 8/10:   0%|          | 0/250 [00:00<?, ?it/s]"
      ]
     },
     "metadata": {},
     "output_type": "display_data"
    },
    {
     "data": {
      "application/vnd.jupyter.widget-view+json": {
       "model_id": "75a2fef917274405bbf2d9e8c64dcd04",
       "version_major": 2,
       "version_minor": 0
      },
      "text/plain": [
       "Validation Epoch 8/10:   0%|          | 0/57 [00:00<?, ?it/s]"
      ]
     },
     "metadata": {},
     "output_type": "display_data"
    },
    {
     "data": {
      "application/vnd.jupyter.widget-view+json": {
       "model_id": "4d69d61e7882496dac2c50b78f17d063",
       "version_major": 2,
       "version_minor": 0
      },
      "text/plain": [
       "Training Epoch 9/10:   0%|          | 0/250 [00:00<?, ?it/s]"
      ]
     },
     "metadata": {},
     "output_type": "display_data"
    },
    {
     "data": {
      "application/vnd.jupyter.widget-view+json": {
       "model_id": "b0cf33dd6638489db29098a187b8c57d",
       "version_major": 2,
       "version_minor": 0
      },
      "text/plain": [
       "Validation Epoch 9/10:   0%|          | 0/57 [00:00<?, ?it/s]"
      ]
     },
     "metadata": {},
     "output_type": "display_data"
    },
    {
     "data": {
      "application/vnd.jupyter.widget-view+json": {
       "model_id": "a17f8893463448f8a64716a2f18e2b54",
       "version_major": 2,
       "version_minor": 0
      },
      "text/plain": [
       "Training Epoch 10/10:   0%|          | 0/250 [00:00<?, ?it/s]"
      ]
     },
     "metadata": {},
     "output_type": "display_data"
    },
    {
     "data": {
      "application/vnd.jupyter.widget-view+json": {
       "model_id": "616e391662cd455ebab969154ce3b939",
       "version_major": 2,
       "version_minor": 0
      },
      "text/plain": [
       "Validation Epoch 10/10:   0%|          | 0/57 [00:00<?, ?it/s]"
      ]
     },
     "metadata": {},
     "output_type": "display_data"
    },
    {
     "data": {
      "application/vnd.jupyter.widget-view+json": {
       "model_id": "4b9adcb3e9ee4a2a8196f2dba71193ec",
       "version_major": 2,
       "version_minor": 0
      },
      "text/plain": [
       "VBox(children=(Label(value='0.002 MB of 0.002 MB uploaded\\r'), FloatProgress(value=1.0, max=1.0)))"
      ]
     },
     "metadata": {},
     "output_type": "display_data"
    },
    {
     "data": {
      "text/html": [
       "<style>\n",
       "    table.wandb td:nth-child(1) { padding: 0 10px; text-align: left ; width: auto;} td:nth-child(2) {text-align: left ; width: 100%}\n",
       "    .wandb-row { display: flex; flex-direction: row; flex-wrap: wrap; justify-content: flex-start; width: 100% }\n",
       "    .wandb-col { display: flex; flex-direction: column; flex-basis: 100%; flex: 1; padding: 10px; }\n",
       "    </style>\n",
       "<div class=\"wandb-row\"><div class=\"wandb-col\"><h3>Run history:</h3><br/><table class=\"wandb\"><tr><td>Train/Accuracy</td><td>▁▄▅▆▇▇▇███</td></tr><tr><td>Train/Loss</td><td>█▅▄▃▂▂▂▁▁▁</td></tr><tr><td>Validation/Accuracy</td><td>▁▁▁▆▃▄▁▃█▃</td></tr><tr><td>Validation/Loss</td><td>▆▇█▃▇▄▇▅▁▄</td></tr></table><br/></div><div class=\"wandb-col\"><h3>Run summary:</h3><br/><table class=\"wandb\"><tr><td>Train/Accuracy</td><td>0.82561</td></tr><tr><td>Train/Loss</td><td>0.51886</td></tr><tr><td>Validation/Accuracy</td><td>0.31278</td></tr><tr><td>Validation/Loss</td><td>1.88544</td></tr></table><br/></div></div>"
      ],
      "text/plain": [
       "<IPython.core.display.HTML object>"
      ]
     },
     "metadata": {},
     "output_type": "display_data"
    },
    {
     "data": {
      "text/html": [
       " View run <strong style=\"color:#cdcd00\">final-experiment/modelnet10/2</strong> at: <a href='https://wandb.ai/technionsaleem/pyg-point-cloud/runs/5qctfrzq' target=\"_blank\">https://wandb.ai/technionsaleem/pyg-point-cloud/runs/5qctfrzq</a><br/> View project at: <a href='https://wandb.ai/technionsaleem/pyg-point-cloud' target=\"_blank\">https://wandb.ai/technionsaleem/pyg-point-cloud</a><br/>Synced 4 W&B file(s), 1 media file(s), 1 artifact file(s) and 0 other file(s)"
      ],
      "text/plain": [
       "<IPython.core.display.HTML object>"
      ]
     },
     "metadata": {},
     "output_type": "display_data"
    },
    {
     "data": {
      "text/html": [
       "Find logs at: <code>.\\wandb\\run-20241002_153749-5qctfrzq\\logs</code>"
      ],
      "text/plain": [
       "<IPython.core.display.HTML object>"
      ]
     },
     "metadata": {},
     "output_type": "display_data"
    }
   ],
   "source": [
    "\n",
    "def train_step(epoch):\n",
    "    \"\"\"Training Step\"\"\"\n",
    "    model.train()\n",
    "    epoch_loss, correct = 0, 0\n",
    "    num_train_examples = len(train_loader)\n",
    "    \n",
    "    progress_bar = tqdm(\n",
    "        range(num_train_examples),\n",
    "        desc=f\"Training Epoch {epoch}/{config.epochs}\"\n",
    "    )\n",
    "    data_iter = iter(train_loader)\n",
    "    for batch_idx in progress_bar:\n",
    "        data = next(data_iter).to(device)\n",
    "        \n",
    "        optimizer.zero_grad()\n",
    "        prediction = model(data)\n",
    "        loss = F.nll_loss(prediction, data.y)\n",
    "        loss.backward()\n",
    "        optimizer.step()\n",
    "        \n",
    "        epoch_loss += loss.item()\n",
    "        correct += prediction.max(1)[1].eq(data.y).sum().item()\n",
    "    \n",
    "    epoch_loss = epoch_loss / num_train_examples\n",
    "    epoch_accuracy = correct / len(train_loader.dataset)\n",
    "    \n",
    "    wandb.log({\n",
    "        \"Train/Loss\": epoch_loss,\n",
    "        \"Train/Accuracy\": epoch_accuracy\n",
    "    })\n",
    "\n",
    "\n",
    "def val_step(epoch):\n",
    "    \"\"\"Validation Step\"\"\"\n",
    "    model.eval()\n",
    "    epoch_loss, correct = 0, 0\n",
    "    num_val_examples = len(val_loader)\n",
    "    \n",
    "    progress_bar = tqdm(\n",
    "        range(num_val_examples),\n",
    "        desc=f\"Validation Epoch {epoch}/{config.epochs}\"\n",
    "    )\n",
    "    data_iter = iter(val_loader)\n",
    "    for batch_idx in progress_bar:\n",
    "        data = next(data_iter).to(device)\n",
    "        \n",
    "        with torch.no_grad():\n",
    "            prediction = model(data)\n",
    "        \n",
    "        loss = F.nll_loss(prediction, data.y)\n",
    "        epoch_loss += loss.item()\n",
    "        correct += prediction.max(1)[1].eq(data.y).sum().item()\n",
    "    \n",
    "    epoch_loss = epoch_loss / num_val_examples\n",
    "    epoch_accuracy = correct / len(val_loader.dataset)\n",
    "    \n",
    "    wandb.log({\n",
    "        \"Validation/Loss\": epoch_loss,\n",
    "        \"Validation/Accuracy\": epoch_accuracy\n",
    "    })\n",
    "\n",
    "\n",
    "def visualize_evaluation(table, epoch):\n",
    "    \"\"\"Visualize validation result in a Weights & Biases Table\"\"\"\n",
    "    point_clouds, losses, predictions, ground_truths, is_correct = [], [], [], [], []\n",
    "    progress_bar = tqdm(\n",
    "        range(config.num_visualization_samples),\n",
    "        desc=f\"Generating Visualizations for Epoch {epoch}/{config.epochs}\"\n",
    "    )\n",
    "    \n",
    "    for idx in progress_bar:\n",
    "        data = next(iter(vizualization_loader)).to(device)\n",
    "        \n",
    "        with torch.no_grad():\n",
    "            prediction = model(data)\n",
    "        \n",
    "        point_clouds.append(\n",
    "            wandb.Object3D(torch.squeeze(data.pos, dim=0).cpu().numpy())\n",
    "        )\n",
    "        losses.append(F.nll_loss(prediction, data.y).item())\n",
    "        predictions.append(config.categories[int(prediction.max(1)[1].item())])\n",
    "        ground_truths.append(config.categories[int(data.y.item())])\n",
    "        is_correct.append(prediction.max(1)[1].eq(data.y).sum().item())\n",
    "    \n",
    "    table.add_data(\n",
    "        epoch, point_clouds, losses, predictions, ground_truths, is_correct\n",
    "    )\n",
    "    return table\n",
    "\n",
    "\n",
    "def save_checkpoint(epoch):\n",
    "    \"\"\"Save model checkpoints as Weights & Biases artifacts\"\"\"\n",
    "    torch.save({\n",
    "        'epoch': epoch,\n",
    "        'model_state_dict': model.state_dict(),\n",
    "        'optimizer_state_dict': optimizer.state_dict()\n",
    "    }, \"checkpoint.pt\")\n",
    "    \n",
    "    artifact_name = wandb.util.make_artifact_name_safe(\n",
    "        f\"{wandb.run.name}-{wandb.run.id}-checkpoint\"\n",
    "    )\n",
    "    \n",
    "    checkpoint_artifact = wandb.Artifact(artifact_name, type=\"checkpoint\")\n",
    "    checkpoint_artifact.add_file(\"checkpoint.pt\")\n",
    "    wandb.log_artifact(\n",
    "        checkpoint_artifact, aliases=[\"latest\", f\"epoch-{epoch}\"]\n",
    "    )\n",
    "\n",
    "table = wandb.Table(\n",
    "    columns=[\n",
    "        \"Epoch\",\n",
    "        \"Point-Clouds\",\n",
    "        \"Losses\",\n",
    "        \"Predicted-Classes\",\n",
    "        \"Ground-Truth\",\n",
    "        \"Is-Correct\"\n",
    "    ]\n",
    ")\n",
    "for epoch in range(1, config.epochs + 1):\n",
    "    train_step(epoch)\n",
    "    val_step(epoch)\n",
    "    # visualize_evaluation(table, epoch)\n",
    "    # save_checkpoint(epoch)\n",
    "wandb.log({\"Evaluation\": table})\n",
    "\n",
    "wandb.finish()\n"
   ]
  },
  {
   "cell_type": "code",
   "execution_count": null,
   "metadata": {},
   "outputs": [],
   "source": []
  }
 ],
 "metadata": {
  "kernelspec": {
   "display_name": "Python 3",
   "language": "python",
   "name": "python3"
  },
  "language_info": {
   "codemirror_mode": {
    "name": "ipython",
    "version": 3
   },
   "file_extension": ".py",
   "mimetype": "text/x-python",
   "name": "python",
   "nbconvert_exporter": "python",
   "pygments_lexer": "ipython3",
   "version": "3.10.6"
  }
 },
 "nbformat": 4,
 "nbformat_minor": 2
}

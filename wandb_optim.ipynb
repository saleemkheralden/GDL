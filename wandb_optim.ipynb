{
 "cells": [
  {
   "cell_type": "code",
   "execution_count": 1,
   "metadata": {},
   "outputs": [
    {
     "data": {
      "text/plain": [
       "<torch._C.Generator at 0x24ef2c2d630>"
      ]
     },
     "execution_count": 1,
     "metadata": {},
     "output_type": "execute_result"
    }
   ],
   "source": [
    "# import time\n",
    "# import copy\n",
    "import wandb\n",
    "import torch\n",
    "import warnings\n",
    "warnings.filterwarnings('ignore')\n",
    "# import torch_geometric\n",
    "\n",
    "from torch import nn, optim\n",
    "from torch.nn import functional as F\n",
    "from torch_geometric import nn as gnn\n",
    "from torch_geometric.loader import DataLoader\n",
    "from torch_geometric.datasets import ModelNet\n",
    "from IPython.display import display, clear_output\n",
    "# from torch_geometric.utils import remove_self_loops\n",
    "# from sklearn.model_selection import train_test_split\n",
    "from torch_geometric.transforms import Compose, RandomRotate, SamplePoints, KNNGraph, NormalizeScale\n",
    "\n",
    "import numpy as np\n",
    "import matplotlib.pyplot as plt\n",
    "\n",
    "from model import GNN, PNET, PointNet, PointViG, PointNet2\n",
    "\n",
    "\n",
    "torch.manual_seed(seed=42)"
   ]
  },
  {
   "cell_type": "code",
   "execution_count": 2,
   "metadata": {},
   "outputs": [],
   "source": [
    "sweep_config = {\n",
    "\t'method': 'random',\n",
    "}\n",
    "\n",
    "metric = {\n",
    "\t'name': 'val accuracy',\n",
    "\t'goal': 'maximize',\n",
    "}\n",
    "\n",
    "parameters = {\n",
    "\t'optimizer': {\n",
    "\t\t'values': ['adam']\n",
    "\t},\n",
    "\t'epochs': {\n",
    "\t\t'value': 10\n",
    "\t},\n",
    "\t'batch_size': {\n",
    "\t\t'values': [32, 64, 128, 256]\n",
    "\t},\n",
    "\t'n_samples': {\n",
    "\t\t'values': [64, 128, 256, 512]\n",
    "\t},\n",
    "\t'learning_rate': {\n",
    "\t\t'values': [5e-5, .0001, .0005, .001]\n",
    "\t},\n",
    "\t'weight_decay': {\n",
    "\t\t'values': [0, .0001]\n",
    "\t}\n",
    "\n",
    "}\n",
    "\n",
    "sweep_config['metric'] = metric\n",
    "sweep_config['parameters'] = parameters\n",
    "\n",
    "# wandb.init(\n",
    "# \tproject='GeoDL'\n",
    "# )"
   ]
  },
  {
   "cell_type": "code",
   "execution_count": 3,
   "metadata": {},
   "outputs": [
    {
     "name": "stdout",
     "output_type": "stream",
     "text": [
      "{'method': 'random',\n",
      " 'metric': {'goal': 'maximize', 'name': 'val accuracy'},\n",
      " 'parameters': {'batch_size': {'values': [32, 64, 128, 256]},\n",
      "                'epochs': {'value': 10},\n",
      "                'learning_rate': {'values': [5e-05, 0.0001, 0.0005, 0.001]},\n",
      "                'n_samples': {'values': [64, 128, 256, 512]},\n",
      "                'optimizer': {'values': ['adam']},\n",
      "                'weight_decay': {'values': [0, 0.0001]}}}\n"
     ]
    }
   ],
   "source": [
    "import pprint\n",
    "pprint.pprint(sweep_config)"
   ]
  },
  {
   "cell_type": "code",
   "execution_count": 4,
   "metadata": {},
   "outputs": [
    {
     "name": "stderr",
     "output_type": "stream",
     "text": [
      "Failed to detect the name of this notebook, you can set it manually with the WANDB_NOTEBOOK_NAME environment variable to enable code saving.\n"
     ]
    },
    {
     "name": "stdout",
     "output_type": "stream",
     "text": [
      "Create sweep with ID: pqgcsuwo\n",
      "Sweep URL: https://wandb.ai/technionsaleem/GeoDL/sweeps/pqgcsuwo\n"
     ]
    }
   ],
   "source": [
    "sweep_id = wandb.sweep(sweep_config, project='GeoDL')"
   ]
  },
  {
   "cell_type": "code",
   "execution_count": 5,
   "metadata": {},
   "outputs": [],
   "source": [
    "device = torch.device(\"cuda\" if torch.cuda.is_available() else \"cpu\")\n",
    "\n",
    "def transform_input(e, n_samples):\n",
    "\ty = e.y\n",
    "\t# e = e.pos.view(int(e.pos.shape[0] / n_samples), n_samples, 3)\n",
    "\t# e = e.transpose(1, 2)\n",
    "\treturn e, y\n",
    "\n",
    "def build_dataset(batch_size, n_samples):\n",
    "   \n",
    "\ttransform = Compose([\n",
    "\t\t# random_rotate,\n",
    "\t\t# jitter,\n",
    "\t\t# shuffle,\n",
    "\t\tSamplePoints(num=n_samples, include_normals=True, remove_faces=True),\n",
    "\t\t# KNNGraph(k=6),\n",
    "\t])\n",
    "\t\n",
    "\tpre_transform = NormalizeScale()\n",
    "\n",
    "\ttrain_data = ModelNet('ModelNet/',\n",
    "\t\t\t\t\t\tname='10',\n",
    "\t\t\t\t\t\ttransform=transform,\n",
    "\t\t\t\t\t\tpre_transform=pre_transform,\n",
    "\t\t\t\t\t\ttrain=True)\n",
    "\t\n",
    "\tval_data = ModelNet('ModelNet/',\n",
    "\t\t\t\t\tname='10',\n",
    "\t\t\t\t\ttransform=transform,\n",
    "\t\t\t\t\tpre_transform=pre_transform,\n",
    "\t\t\t\t\ttrain=False)\n",
    "\t\n",
    "\tdataloader = DataLoader(dataset=train_data,\n",
    "\t\t\t\t\t\tbatch_size=batch_size,\n",
    "\t\t\t\t\t\tshuffle=True)\n",
    "\t\n",
    "\tval_dataloader = DataLoader(dataset=val_data,\n",
    "\t\t\t\t\t\t\tshuffle=True,\n",
    "\t\t\t\t\t\t\tbatch_size=batch_size)\n",
    "\n",
    "\treturn dataloader, val_dataloader\n",
    "\n",
    "\n",
    "def build_network():\n",
    "\t# network = PointNet(in_channels=3, out_channels=10)\n",
    "\tratio_1, radius_1 = .748, .4817\n",
    "\tratio_2, radius_2 = .3316, .2447\n",
    "\tdropout = .1\n",
    "\tnetwork = PointNet2(ratio_1, ratio_2, radius_1, radius_2, dropout)\n",
    "\treturn network.to(device)\n",
    "\n",
    "\n",
    "def build_optimizer(model, learning_rate, weight_decay):\n",
    "\toptimizer = optim.Adam(model.parameters(), lr=learning_rate, weight_decay=weight_decay)\n",
    "\treturn optimizer\n",
    "\n",
    "def calc_acc(y, y_hat):\n",
    "\treturn (y == y_hat).type(torch.float).mean().detach().cpu().item()\n",
    "\n",
    "def calc_val_acc(m, val_dataloader, n_samples):\n",
    "\tm.eval()\n",
    "\n",
    "\tval_acc = []\n",
    "\tfor obj in val_dataloader:\n",
    "\t\tobj = obj.to(device)\n",
    "\t\tobj, y = transform_input(obj, n_samples)\n",
    "\n",
    "\t\to = m(obj)\n",
    "\t\ty_hat = o.argmax(dim=-1)\n",
    "\n",
    "\t\tval_acc.append(calc_acc(y, y_hat))\n",
    "\t\n",
    "\tval_acc = sum(val_acc) / len(val_acc)\n",
    "\treturn val_acc\n",
    "\n",
    "def train_epoch(network, loader, val_loader, optimizer, n_samples, epoch):\n",
    "\tcriterion = nn.CrossEntropyLoss()\n",
    "\tcumu_loss = 0\n",
    "\ttrain_acc = []\n",
    "\n",
    "\tnetwork.train()\n",
    "\tfor _, e in enumerate(loader):\n",
    "\t\te = e.to(device)\n",
    "\n",
    "\t\te, y = transform_input(e, n_samples)\n",
    "\n",
    "\t\toptimizer.zero_grad()\n",
    "\t\to = network(e)\n",
    "\n",
    "\t\t# ➡ Forward pass\n",
    "\t\tloss = criterion(o, y)\n",
    "\t\tcumu_loss += loss.item()\n",
    "\n",
    "\t\t# ⬅ Backward pass + weight update\n",
    "\t\tloss.backward()\n",
    "\t\toptimizer.step()\n",
    "\n",
    "\t\ttrain_acc.append(calc_acc(y, o.argmax(dim=-1)))\n",
    "\n",
    "\t\twandb.log({\"batch loss\": loss.item()})\n",
    "\t\twandb.log({\"batch train accuracy\": train_acc[-1]})\n",
    "\t\n",
    "\t\n",
    "\twandb.log({\"train accuracy\": sum(train_acc) / len(train_acc), \"epoch\": epoch})\n",
    "\twandb.log({\"val accuracy\": calc_val_acc(network, val_loader, n_samples), \"epoch\": epoch})\n",
    "\n",
    "\n",
    "\treturn cumu_loss / len(loader)"
   ]
  },
  {
   "cell_type": "code",
   "execution_count": 6,
   "metadata": {},
   "outputs": [],
   "source": [
    "import torch\n",
    "import torch.optim as optim\n",
    "import torch.nn.functional as F\n",
    "import torch.nn as nn\n",
    "from torchvision import datasets, transforms\n",
    "\n",
    "\n",
    "\n",
    "def train(config=None):\n",
    "    # Initialize a new wandb run\n",
    "    with wandb.init(config=config):\n",
    "        # If called by wandb.agent, as below,\n",
    "        # this config will be set by Sweep Controller\n",
    "        config = wandb.config\n",
    "\n",
    "        loader, val_loader = build_dataset(config.batch_size, config.n_samples)\n",
    "        network = build_network()\n",
    "        optimizer = build_optimizer(network, config.learning_rate, config.weight_decay)\n",
    "\n",
    "        for epoch in range(config.epochs):\n",
    "            avg_loss = train_epoch(network, loader, val_loader, optimizer, config.n_samples, epoch)\n",
    "            \n",
    "            wandb.log({\"loss\": avg_loss,\n",
    "                       'epoch': epoch})"
   ]
  },
  {
   "cell_type": "code",
   "execution_count": 7,
   "metadata": {},
   "outputs": [
    {
     "name": "stderr",
     "output_type": "stream",
     "text": [
      "\u001b[34m\u001b[1mwandb\u001b[0m: Agent Starting Run: 6khbaega with config:\n",
      "\u001b[34m\u001b[1mwandb\u001b[0m: \tbatch_size: 64\n",
      "\u001b[34m\u001b[1mwandb\u001b[0m: \tepochs: 10\n",
      "\u001b[34m\u001b[1mwandb\u001b[0m: \tlearning_rate: 0.0001\n",
      "\u001b[34m\u001b[1mwandb\u001b[0m: \tn_samples: 64\n",
      "\u001b[34m\u001b[1mwandb\u001b[0m: \toptimizer: adam\n",
      "\u001b[34m\u001b[1mwandb\u001b[0m: \tweight_decay: 0.0001\n",
      "Failed to detect the name of this notebook, you can set it manually with the WANDB_NOTEBOOK_NAME environment variable to enable code saving.\n",
      "\u001b[34m\u001b[1mwandb\u001b[0m: Currently logged in as: \u001b[33msaleemkheralden\u001b[0m (\u001b[33mtechnionsaleem\u001b[0m). Use \u001b[1m`wandb login --relogin`\u001b[0m to force relogin\n"
     ]
    },
    {
     "data": {
      "text/html": [
       "wandb version 0.18.3 is available!  To upgrade, please run:\n",
       " $ pip install wandb --upgrade"
      ],
      "text/plain": [
       "<IPython.core.display.HTML object>"
      ]
     },
     "metadata": {},
     "output_type": "display_data"
    },
    {
     "data": {
      "text/html": [
       "Tracking run with wandb version 0.17.0"
      ],
      "text/plain": [
       "<IPython.core.display.HTML object>"
      ]
     },
     "metadata": {},
     "output_type": "display_data"
    },
    {
     "data": {
      "text/html": [
       "Run data is saved locally in <code>c:\\Users\\salee\\OneDrive - Technion\\Data science\\semester 8\\DeepLearningGeo\\Project\\wandb\\run-20241002_151507-6khbaega</code>"
      ],
      "text/plain": [
       "<IPython.core.display.HTML object>"
      ]
     },
     "metadata": {},
     "output_type": "display_data"
    },
    {
     "data": {
      "text/html": [
       "Syncing run <strong><a href='https://wandb.ai/technionsaleem/GeoDL/runs/6khbaega' target=\"_blank\">clear-sweep-1</a></strong> to <a href='https://wandb.ai/technionsaleem/GeoDL' target=\"_blank\">Weights & Biases</a> (<a href='https://wandb.me/run' target=\"_blank\">docs</a>)<br/>Sweep page: <a href='https://wandb.ai/technionsaleem/GeoDL/sweeps/pqgcsuwo' target=\"_blank\">https://wandb.ai/technionsaleem/GeoDL/sweeps/pqgcsuwo</a>"
      ],
      "text/plain": [
       "<IPython.core.display.HTML object>"
      ]
     },
     "metadata": {},
     "output_type": "display_data"
    },
    {
     "data": {
      "text/html": [
       " View project at <a href='https://wandb.ai/technionsaleem/GeoDL' target=\"_blank\">https://wandb.ai/technionsaleem/GeoDL</a>"
      ],
      "text/plain": [
       "<IPython.core.display.HTML object>"
      ]
     },
     "metadata": {},
     "output_type": "display_data"
    },
    {
     "data": {
      "text/html": [
       " View sweep at <a href='https://wandb.ai/technionsaleem/GeoDL/sweeps/pqgcsuwo' target=\"_blank\">https://wandb.ai/technionsaleem/GeoDL/sweeps/pqgcsuwo</a>"
      ],
      "text/plain": [
       "<IPython.core.display.HTML object>"
      ]
     },
     "metadata": {},
     "output_type": "display_data"
    },
    {
     "data": {
      "text/html": [
       " View run at <a href='https://wandb.ai/technionsaleem/GeoDL/runs/6khbaega' target=\"_blank\">https://wandb.ai/technionsaleem/GeoDL/runs/6khbaega</a>"
      ],
      "text/plain": [
       "<IPython.core.display.HTML object>"
      ]
     },
     "metadata": {},
     "output_type": "display_data"
    },
    {
     "data": {
      "application/vnd.jupyter.widget-view+json": {
       "model_id": "f034be860cc2451f966f88e2c42653a2",
       "version_major": 2,
       "version_minor": 0
      },
      "text/plain": [
       "VBox(children=(Label(value='0.005 MB of 0.006 MB uploaded\\r'), FloatProgress(value=0.8671875, max=1.0)))"
      ]
     },
     "metadata": {},
     "output_type": "display_data"
    },
    {
     "data": {
      "text/html": [
       "<style>\n",
       "    table.wandb td:nth-child(1) { padding: 0 10px; text-align: left ; width: auto;} td:nth-child(2) {text-align: left ; width: 100%}\n",
       "    .wandb-row { display: flex; flex-direction: row; flex-wrap: wrap; justify-content: flex-start; width: 100% }\n",
       "    .wandb-col { display: flex; flex-direction: column; flex-basis: 100%; flex: 1; padding: 10px; }\n",
       "    </style>\n",
       "<div class=\"wandb-row\"><div class=\"wandb-col\"><h3>Run history:</h3><br/><table class=\"wandb\"><tr><td>batch loss</td><td>██▇▇▇▇▅█▆▆▆▅▇▅▄▅█▅▆▃▂▅▄▂▂▃▅▇▆▃▃▇▁▂▂▆▅▄▆▆</td></tr><tr><td>batch train accuracy</td><td>▂▂▃▁▂▁▄▂▅▄▄▅▂▄▄▅▂▄▂▆▆▄▄▆▇▆▅▁▄▆▇▃█▇▆▃▅▅▃▄</td></tr><tr><td>epoch</td><td>▁▁▁▂▂▂▃▃▃▃▃▃▄▄▄▅▅▅▆▆▆▆▆▆▇▇▇███</td></tr><tr><td>loss</td><td>█▆▅▄▃▃▂▂▁▁</td></tr><tr><td>train accuracy</td><td>▁▂▄▅▆▆▇▇██</td></tr><tr><td>val accuracy</td><td>▁▁▂▃▄▃▇▆▇█</td></tr></table><br/></div><div class=\"wandb-col\"><h3>Run summary:</h3><br/><table class=\"wandb\"><tr><td>batch loss</td><td>0.48803</td></tr><tr><td>batch train accuracy</td><td>0.86957</td></tr><tr><td>epoch</td><td>9</td></tr><tr><td>loss</td><td>1.09355</td></tr><tr><td>train accuracy</td><td>0.63657</td></tr><tr><td>val accuracy</td><td>0.26944</td></tr></table><br/></div></div>"
      ],
      "text/plain": [
       "<IPython.core.display.HTML object>"
      ]
     },
     "metadata": {},
     "output_type": "display_data"
    },
    {
     "data": {
      "text/html": [
       " View run <strong style=\"color:#cdcd00\">clear-sweep-1</strong> at: <a href='https://wandb.ai/technionsaleem/GeoDL/runs/6khbaega' target=\"_blank\">https://wandb.ai/technionsaleem/GeoDL/runs/6khbaega</a><br/> View project at: <a href='https://wandb.ai/technionsaleem/GeoDL' target=\"_blank\">https://wandb.ai/technionsaleem/GeoDL</a><br/>Synced 4 W&B file(s), 0 media file(s), 0 artifact file(s) and 0 other file(s)"
      ],
      "text/plain": [
       "<IPython.core.display.HTML object>"
      ]
     },
     "metadata": {},
     "output_type": "display_data"
    },
    {
     "data": {
      "text/html": [
       "Find logs at: <code>.\\wandb\\run-20241002_151507-6khbaega\\logs</code>"
      ],
      "text/plain": [
       "<IPython.core.display.HTML object>"
      ]
     },
     "metadata": {},
     "output_type": "display_data"
    },
    {
     "name": "stderr",
     "output_type": "stream",
     "text": [
      "\u001b[34m\u001b[1mwandb\u001b[0m: Agent Starting Run: 6oikmqwk with config:\n",
      "\u001b[34m\u001b[1mwandb\u001b[0m: \tbatch_size: 32\n",
      "\u001b[34m\u001b[1mwandb\u001b[0m: \tepochs: 10\n",
      "\u001b[34m\u001b[1mwandb\u001b[0m: \tlearning_rate: 5e-05\n",
      "\u001b[34m\u001b[1mwandb\u001b[0m: \tn_samples: 256\n",
      "\u001b[34m\u001b[1mwandb\u001b[0m: \toptimizer: adam\n",
      "\u001b[34m\u001b[1mwandb\u001b[0m: \tweight_decay: 0\n",
      "Failed to detect the name of this notebook, you can set it manually with the WANDB_NOTEBOOK_NAME environment variable to enable code saving.\n"
     ]
    },
    {
     "data": {
      "text/html": [
       "wandb version 0.18.3 is available!  To upgrade, please run:\n",
       " $ pip install wandb --upgrade"
      ],
      "text/plain": [
       "<IPython.core.display.HTML object>"
      ]
     },
     "metadata": {},
     "output_type": "display_data"
    },
    {
     "data": {
      "text/html": [
       "Tracking run with wandb version 0.17.0"
      ],
      "text/plain": [
       "<IPython.core.display.HTML object>"
      ]
     },
     "metadata": {},
     "output_type": "display_data"
    },
    {
     "data": {
      "text/html": [
       "Run data is saved locally in <code>c:\\Users\\salee\\OneDrive - Technion\\Data science\\semester 8\\DeepLearningGeo\\Project\\wandb\\run-20241002_151636-6oikmqwk</code>"
      ],
      "text/plain": [
       "<IPython.core.display.HTML object>"
      ]
     },
     "metadata": {},
     "output_type": "display_data"
    },
    {
     "data": {
      "text/html": [
       "Syncing run <strong><a href='https://wandb.ai/technionsaleem/GeoDL/runs/6oikmqwk' target=\"_blank\">fiery-sweep-2</a></strong> to <a href='https://wandb.ai/technionsaleem/GeoDL' target=\"_blank\">Weights & Biases</a> (<a href='https://wandb.me/run' target=\"_blank\">docs</a>)<br/>Sweep page: <a href='https://wandb.ai/technionsaleem/GeoDL/sweeps/pqgcsuwo' target=\"_blank\">https://wandb.ai/technionsaleem/GeoDL/sweeps/pqgcsuwo</a>"
      ],
      "text/plain": [
       "<IPython.core.display.HTML object>"
      ]
     },
     "metadata": {},
     "output_type": "display_data"
    },
    {
     "data": {
      "text/html": [
       " View project at <a href='https://wandb.ai/technionsaleem/GeoDL' target=\"_blank\">https://wandb.ai/technionsaleem/GeoDL</a>"
      ],
      "text/plain": [
       "<IPython.core.display.HTML object>"
      ]
     },
     "metadata": {},
     "output_type": "display_data"
    },
    {
     "data": {
      "text/html": [
       " View sweep at <a href='https://wandb.ai/technionsaleem/GeoDL/sweeps/pqgcsuwo' target=\"_blank\">https://wandb.ai/technionsaleem/GeoDL/sweeps/pqgcsuwo</a>"
      ],
      "text/plain": [
       "<IPython.core.display.HTML object>"
      ]
     },
     "metadata": {},
     "output_type": "display_data"
    },
    {
     "data": {
      "text/html": [
       " View run at <a href='https://wandb.ai/technionsaleem/GeoDL/runs/6oikmqwk' target=\"_blank\">https://wandb.ai/technionsaleem/GeoDL/runs/6oikmqwk</a>"
      ],
      "text/plain": [
       "<IPython.core.display.HTML object>"
      ]
     },
     "metadata": {},
     "output_type": "display_data"
    },
    {
     "data": {
      "application/vnd.jupyter.widget-view+json": {
       "model_id": "1f10f68abc654ab7a1f893b2c0d76b36",
       "version_major": 2,
       "version_minor": 0
      },
      "text/plain": [
       "VBox(children=(Label(value='0.006 MB of 0.006 MB uploaded\\r'), FloatProgress(value=1.0, max=1.0)))"
      ]
     },
     "metadata": {},
     "output_type": "display_data"
    },
    {
     "data": {
      "text/html": [
       "<style>\n",
       "    table.wandb td:nth-child(1) { padding: 0 10px; text-align: left ; width: auto;} td:nth-child(2) {text-align: left ; width: 100%}\n",
       "    .wandb-row { display: flex; flex-direction: row; flex-wrap: wrap; justify-content: flex-start; width: 100% }\n",
       "    .wandb-col { display: flex; flex-direction: column; flex-basis: 100%; flex: 1; padding: 10px; }\n",
       "    </style>\n",
       "<div class=\"wandb-row\"><div class=\"wandb-col\"><h3>Run history:</h3><br/><table class=\"wandb\"><tr><td>batch loss</td><td>█▇▇▇█▆▆▅▅▇▆▆▄▃▆▄▃▇▇▂▄▃▂▇▁▂▃▆▂▂▃▂▄▃▂▁▄▂▂▂</td></tr><tr><td>batch train accuracy</td><td>▃▄▃▃▁▄▃▄▅▂▄▄▇▆▃▅▆▃▃▆▄▇▆▂▇▆▇▅▇▆▆▇▆▇█▇▆▇▇▇</td></tr><tr><td>epoch</td><td>▁▁▁▂▂▂▃▃▃▃▃▃▄▄▄▅▅▅▆▆▆▆▆▆▇▇▇███</td></tr><tr><td>loss</td><td>█▆▅▄▃▂▂▁▁▁</td></tr><tr><td>train accuracy</td><td>▁▃▄▅▆▇▇▇██</td></tr><tr><td>val accuracy</td><td>▁▄▇▃▇▆█▆▆▆</td></tr></table><br/></div><div class=\"wandb-col\"><h3>Run summary:</h3><br/><table class=\"wandb\"><tr><td>batch loss</td><td>0.72082</td></tr><tr><td>batch train accuracy</td><td>0.78261</td></tr><tr><td>epoch</td><td>9</td></tr><tr><td>loss</td><td>0.93495</td></tr><tr><td>train accuracy</td><td>0.69526</td></tr><tr><td>val accuracy</td><td>0.25503</td></tr></table><br/></div></div>"
      ],
      "text/plain": [
       "<IPython.core.display.HTML object>"
      ]
     },
     "metadata": {},
     "output_type": "display_data"
    },
    {
     "data": {
      "text/html": [
       " View run <strong style=\"color:#cdcd00\">fiery-sweep-2</strong> at: <a href='https://wandb.ai/technionsaleem/GeoDL/runs/6oikmqwk' target=\"_blank\">https://wandb.ai/technionsaleem/GeoDL/runs/6oikmqwk</a><br/> View project at: <a href='https://wandb.ai/technionsaleem/GeoDL' target=\"_blank\">https://wandb.ai/technionsaleem/GeoDL</a><br/>Synced 4 W&B file(s), 0 media file(s), 0 artifact file(s) and 0 other file(s)"
      ],
      "text/plain": [
       "<IPython.core.display.HTML object>"
      ]
     },
     "metadata": {},
     "output_type": "display_data"
    },
    {
     "data": {
      "text/html": [
       "Find logs at: <code>.\\wandb\\run-20241002_151636-6oikmqwk\\logs</code>"
      ],
      "text/plain": [
       "<IPython.core.display.HTML object>"
      ]
     },
     "metadata": {},
     "output_type": "display_data"
    },
    {
     "name": "stderr",
     "output_type": "stream",
     "text": [
      "\u001b[34m\u001b[1mwandb\u001b[0m: Agent Starting Run: 9k9r3rvk with config:\n",
      "\u001b[34m\u001b[1mwandb\u001b[0m: \tbatch_size: 256\n",
      "\u001b[34m\u001b[1mwandb\u001b[0m: \tepochs: 10\n",
      "\u001b[34m\u001b[1mwandb\u001b[0m: \tlearning_rate: 0.001\n",
      "\u001b[34m\u001b[1mwandb\u001b[0m: \tn_samples: 64\n",
      "\u001b[34m\u001b[1mwandb\u001b[0m: \toptimizer: adam\n",
      "\u001b[34m\u001b[1mwandb\u001b[0m: \tweight_decay: 0.0001\n",
      "Failed to detect the name of this notebook, you can set it manually with the WANDB_NOTEBOOK_NAME environment variable to enable code saving.\n"
     ]
    },
    {
     "data": {
      "text/html": [
       "wandb version 0.18.3 is available!  To upgrade, please run:\n",
       " $ pip install wandb --upgrade"
      ],
      "text/plain": [
       "<IPython.core.display.HTML object>"
      ]
     },
     "metadata": {},
     "output_type": "display_data"
    },
    {
     "data": {
      "text/html": [
       "Tracking run with wandb version 0.17.0"
      ],
      "text/plain": [
       "<IPython.core.display.HTML object>"
      ]
     },
     "metadata": {},
     "output_type": "display_data"
    },
    {
     "data": {
      "text/html": [
       "Run data is saved locally in <code>c:\\Users\\salee\\OneDrive - Technion\\Data science\\semester 8\\DeepLearningGeo\\Project\\wandb\\run-20241002_151821-9k9r3rvk</code>"
      ],
      "text/plain": [
       "<IPython.core.display.HTML object>"
      ]
     },
     "metadata": {},
     "output_type": "display_data"
    },
    {
     "data": {
      "text/html": [
       "Syncing run <strong><a href='https://wandb.ai/technionsaleem/GeoDL/runs/9k9r3rvk' target=\"_blank\">hopeful-sweep-3</a></strong> to <a href='https://wandb.ai/technionsaleem/GeoDL' target=\"_blank\">Weights & Biases</a> (<a href='https://wandb.me/run' target=\"_blank\">docs</a>)<br/>Sweep page: <a href='https://wandb.ai/technionsaleem/GeoDL/sweeps/pqgcsuwo' target=\"_blank\">https://wandb.ai/technionsaleem/GeoDL/sweeps/pqgcsuwo</a>"
      ],
      "text/plain": [
       "<IPython.core.display.HTML object>"
      ]
     },
     "metadata": {},
     "output_type": "display_data"
    },
    {
     "data": {
      "text/html": [
       " View project at <a href='https://wandb.ai/technionsaleem/GeoDL' target=\"_blank\">https://wandb.ai/technionsaleem/GeoDL</a>"
      ],
      "text/plain": [
       "<IPython.core.display.HTML object>"
      ]
     },
     "metadata": {},
     "output_type": "display_data"
    },
    {
     "data": {
      "text/html": [
       " View sweep at <a href='https://wandb.ai/technionsaleem/GeoDL/sweeps/pqgcsuwo' target=\"_blank\">https://wandb.ai/technionsaleem/GeoDL/sweeps/pqgcsuwo</a>"
      ],
      "text/plain": [
       "<IPython.core.display.HTML object>"
      ]
     },
     "metadata": {},
     "output_type": "display_data"
    },
    {
     "data": {
      "text/html": [
       " View run at <a href='https://wandb.ai/technionsaleem/GeoDL/runs/9k9r3rvk' target=\"_blank\">https://wandb.ai/technionsaleem/GeoDL/runs/9k9r3rvk</a>"
      ],
      "text/plain": [
       "<IPython.core.display.HTML object>"
      ]
     },
     "metadata": {},
     "output_type": "display_data"
    },
    {
     "data": {
      "application/vnd.jupyter.widget-view+json": {
       "model_id": "6b15fe38e69444d2b4ec4994f23c0e93",
       "version_major": 2,
       "version_minor": 0
      },
      "text/plain": [
       "VBox(children=(Label(value='0.006 MB of 0.006 MB uploaded\\r'), FloatProgress(value=1.0, max=1.0)))"
      ]
     },
     "metadata": {},
     "output_type": "display_data"
    },
    {
     "data": {
      "text/html": [
       "<style>\n",
       "    table.wandb td:nth-child(1) { padding: 0 10px; text-align: left ; width: auto;} td:nth-child(2) {text-align: left ; width: 100%}\n",
       "    .wandb-row { display: flex; flex-direction: row; flex-wrap: wrap; justify-content: flex-start; width: 100% }\n",
       "    .wandb-col { display: flex; flex-direction: column; flex-basis: 100%; flex: 1; padding: 10px; }\n",
       "    </style>\n",
       "<div class=\"wandb-row\"><div class=\"wandb-col\"><h3>Run history:</h3><br/><table class=\"wandb\"><tr><td>batch loss</td><td>██▇▇▇▆▇▇▇▇█▅▅▄▅▄▇▅▆▃▂▅▃▂▃▂▂▁▄▂▄▄▂▂▂▃▇▂▁▇</td></tr><tr><td>batch train accuracy</td><td>▁▂▁▂▂▄▂▂▂▂▃▄▃▅▄▄▂▄▄▆▆▆▆▇▇▇▇█▆▇▆▄▇▇▇▆▃██▃</td></tr><tr><td>epoch</td><td>▁▁▁▂▂▂▃▃▃▃▃▃▄▄▄▅▅▅▆▆▆▆▆▆▇▇▇███</td></tr><tr><td>loss</td><td>█▇▆▄▄▂▁▁▁▁</td></tr><tr><td>train accuracy</td><td>▁▃▄▄▅▇█▇▇█</td></tr><tr><td>val accuracy</td><td>▁▁▂▂▄█▆▇▄▅</td></tr></table><br/></div><div class=\"wandb-col\"><h3>Run summary:</h3><br/><table class=\"wandb\"><tr><td>batch loss</td><td>2.10115</td></tr><tr><td>batch train accuracy</td><td>0.35099</td></tr><tr><td>epoch</td><td>9</td></tr><tr><td>loss</td><td>1.40199</td></tr><tr><td>train accuracy</td><td>0.53024</td></tr><tr><td>val accuracy</td><td>0.24919</td></tr></table><br/></div></div>"
      ],
      "text/plain": [
       "<IPython.core.display.HTML object>"
      ]
     },
     "metadata": {},
     "output_type": "display_data"
    },
    {
     "data": {
      "text/html": [
       " View run <strong style=\"color:#cdcd00\">hopeful-sweep-3</strong> at: <a href='https://wandb.ai/technionsaleem/GeoDL/runs/9k9r3rvk' target=\"_blank\">https://wandb.ai/technionsaleem/GeoDL/runs/9k9r3rvk</a><br/> View project at: <a href='https://wandb.ai/technionsaleem/GeoDL' target=\"_blank\">https://wandb.ai/technionsaleem/GeoDL</a><br/>Synced 4 W&B file(s), 0 media file(s), 0 artifact file(s) and 0 other file(s)"
      ],
      "text/plain": [
       "<IPython.core.display.HTML object>"
      ]
     },
     "metadata": {},
     "output_type": "display_data"
    },
    {
     "data": {
      "text/html": [
       "Find logs at: <code>.\\wandb\\run-20241002_151821-9k9r3rvk\\logs</code>"
      ],
      "text/plain": [
       "<IPython.core.display.HTML object>"
      ]
     },
     "metadata": {},
     "output_type": "display_data"
    },
    {
     "name": "stderr",
     "output_type": "stream",
     "text": [
      "\u001b[34m\u001b[1mwandb\u001b[0m: Agent Starting Run: 8bipuxi7 with config:\n",
      "\u001b[34m\u001b[1mwandb\u001b[0m: \tbatch_size: 64\n",
      "\u001b[34m\u001b[1mwandb\u001b[0m: \tepochs: 10\n",
      "\u001b[34m\u001b[1mwandb\u001b[0m: \tlearning_rate: 0.001\n",
      "\u001b[34m\u001b[1mwandb\u001b[0m: \tn_samples: 512\n",
      "\u001b[34m\u001b[1mwandb\u001b[0m: \toptimizer: adam\n",
      "\u001b[34m\u001b[1mwandb\u001b[0m: \tweight_decay: 0.0001\n",
      "Failed to detect the name of this notebook, you can set it manually with the WANDB_NOTEBOOK_NAME environment variable to enable code saving.\n"
     ]
    },
    {
     "data": {
      "text/html": [
       "wandb version 0.18.3 is available!  To upgrade, please run:\n",
       " $ pip install wandb --upgrade"
      ],
      "text/plain": [
       "<IPython.core.display.HTML object>"
      ]
     },
     "metadata": {},
     "output_type": "display_data"
    },
    {
     "data": {
      "text/html": [
       "Tracking run with wandb version 0.17.0"
      ],
      "text/plain": [
       "<IPython.core.display.HTML object>"
      ]
     },
     "metadata": {},
     "output_type": "display_data"
    },
    {
     "data": {
      "text/html": [
       "Run data is saved locally in <code>c:\\Users\\salee\\OneDrive - Technion\\Data science\\semester 8\\DeepLearningGeo\\Project\\wandb\\run-20241002_151935-8bipuxi7</code>"
      ],
      "text/plain": [
       "<IPython.core.display.HTML object>"
      ]
     },
     "metadata": {},
     "output_type": "display_data"
    },
    {
     "data": {
      "text/html": [
       "Syncing run <strong><a href='https://wandb.ai/technionsaleem/GeoDL/runs/8bipuxi7' target=\"_blank\">vocal-sweep-4</a></strong> to <a href='https://wandb.ai/technionsaleem/GeoDL' target=\"_blank\">Weights & Biases</a> (<a href='https://wandb.me/run' target=\"_blank\">docs</a>)<br/>Sweep page: <a href='https://wandb.ai/technionsaleem/GeoDL/sweeps/pqgcsuwo' target=\"_blank\">https://wandb.ai/technionsaleem/GeoDL/sweeps/pqgcsuwo</a>"
      ],
      "text/plain": [
       "<IPython.core.display.HTML object>"
      ]
     },
     "metadata": {},
     "output_type": "display_data"
    },
    {
     "data": {
      "text/html": [
       " View project at <a href='https://wandb.ai/technionsaleem/GeoDL' target=\"_blank\">https://wandb.ai/technionsaleem/GeoDL</a>"
      ],
      "text/plain": [
       "<IPython.core.display.HTML object>"
      ]
     },
     "metadata": {},
     "output_type": "display_data"
    },
    {
     "data": {
      "text/html": [
       " View sweep at <a href='https://wandb.ai/technionsaleem/GeoDL/sweeps/pqgcsuwo' target=\"_blank\">https://wandb.ai/technionsaleem/GeoDL/sweeps/pqgcsuwo</a>"
      ],
      "text/plain": [
       "<IPython.core.display.HTML object>"
      ]
     },
     "metadata": {},
     "output_type": "display_data"
    },
    {
     "data": {
      "text/html": [
       " View run at <a href='https://wandb.ai/technionsaleem/GeoDL/runs/8bipuxi7' target=\"_blank\">https://wandb.ai/technionsaleem/GeoDL/runs/8bipuxi7</a>"
      ],
      "text/plain": [
       "<IPython.core.display.HTML object>"
      ]
     },
     "metadata": {},
     "output_type": "display_data"
    },
    {
     "data": {
      "application/vnd.jupyter.widget-view+json": {
       "model_id": "978f8d35aab44e8ab14be014d6bbf9d0",
       "version_major": 2,
       "version_minor": 0
      },
      "text/plain": [
       "VBox(children=(Label(value='0.006 MB of 0.006 MB uploaded\\r'), FloatProgress(value=1.0, max=1.0)))"
      ]
     },
     "metadata": {},
     "output_type": "display_data"
    },
    {
     "data": {
      "text/html": [
       "<style>\n",
       "    table.wandb td:nth-child(1) { padding: 0 10px; text-align: left ; width: auto;} td:nth-child(2) {text-align: left ; width: 100%}\n",
       "    .wandb-row { display: flex; flex-direction: row; flex-wrap: wrap; justify-content: flex-start; width: 100% }\n",
       "    .wandb-col { display: flex; flex-direction: column; flex-basis: 100%; flex: 1; padding: 10px; }\n",
       "    </style>\n",
       "<div class=\"wandb-row\"><div class=\"wandb-col\"><h3>Run history:</h3><br/><table class=\"wandb\"><tr><td>batch loss</td><td>██▇▇▆█▄▆▇▅▅▃▂▃▃▂▄▄▂▂▄▂▁▂▂▁▃▂▅▂▃▁▂▂▂▂▄▃▁▂</td></tr><tr><td>batch train accuracy</td><td>▁▁▁▂▃▂▅▂▃▆▄▆▇▆▇▇▆▄▇█▅▇██▇█▆█▄▇▆▇▇█▇▇▅▆█▇</td></tr><tr><td>epoch</td><td>▁▁▁▂▂▂▃▃▃▃▃▃▄▄▄▅▅▅▆▆▆▆▆▆▇▇▇███</td></tr><tr><td>loss</td><td>█▆▄▃▂▂▂▂▁▁</td></tr><tr><td>train accuracy</td><td>▁▄▅▆▇▇▇▇██</td></tr><tr><td>val accuracy</td><td>▁▃▃▄▃▄█▄▆▂</td></tr></table><br/></div><div class=\"wandb-col\"><h3>Run summary:</h3><br/><table class=\"wandb\"><tr><td>batch loss</td><td>0.31067</td></tr><tr><td>batch train accuracy</td><td>0.86957</td></tr><tr><td>epoch</td><td>9</td></tr><tr><td>loss</td><td>0.67489</td></tr><tr><td>train accuracy</td><td>0.76727</td></tr><tr><td>val accuracy</td><td>0.22431</td></tr></table><br/></div></div>"
      ],
      "text/plain": [
       "<IPython.core.display.HTML object>"
      ]
     },
     "metadata": {},
     "output_type": "display_data"
    },
    {
     "data": {
      "text/html": [
       " View run <strong style=\"color:#cdcd00\">vocal-sweep-4</strong> at: <a href='https://wandb.ai/technionsaleem/GeoDL/runs/8bipuxi7' target=\"_blank\">https://wandb.ai/technionsaleem/GeoDL/runs/8bipuxi7</a><br/> View project at: <a href='https://wandb.ai/technionsaleem/GeoDL' target=\"_blank\">https://wandb.ai/technionsaleem/GeoDL</a><br/>Synced 4 W&B file(s), 0 media file(s), 0 artifact file(s) and 0 other file(s)"
      ],
      "text/plain": [
       "<IPython.core.display.HTML object>"
      ]
     },
     "metadata": {},
     "output_type": "display_data"
    },
    {
     "data": {
      "text/html": [
       "Find logs at: <code>.\\wandb\\run-20241002_151935-8bipuxi7\\logs</code>"
      ],
      "text/plain": [
       "<IPython.core.display.HTML object>"
      ]
     },
     "metadata": {},
     "output_type": "display_data"
    },
    {
     "name": "stderr",
     "output_type": "stream",
     "text": [
      "\u001b[34m\u001b[1mwandb\u001b[0m: Agent Starting Run: jofi1671 with config:\n",
      "\u001b[34m\u001b[1mwandb\u001b[0m: \tbatch_size: 256\n",
      "\u001b[34m\u001b[1mwandb\u001b[0m: \tepochs: 10\n",
      "\u001b[34m\u001b[1mwandb\u001b[0m: \tlearning_rate: 0.001\n",
      "\u001b[34m\u001b[1mwandb\u001b[0m: \tn_samples: 256\n",
      "\u001b[34m\u001b[1mwandb\u001b[0m: \toptimizer: adam\n",
      "\u001b[34m\u001b[1mwandb\u001b[0m: \tweight_decay: 0\n",
      "Failed to detect the name of this notebook, you can set it manually with the WANDB_NOTEBOOK_NAME environment variable to enable code saving.\n"
     ]
    },
    {
     "data": {
      "text/html": [
       "wandb version 0.18.3 is available!  To upgrade, please run:\n",
       " $ pip install wandb --upgrade"
      ],
      "text/plain": [
       "<IPython.core.display.HTML object>"
      ]
     },
     "metadata": {},
     "output_type": "display_data"
    },
    {
     "data": {
      "text/html": [
       "Tracking run with wandb version 0.17.0"
      ],
      "text/plain": [
       "<IPython.core.display.HTML object>"
      ]
     },
     "metadata": {},
     "output_type": "display_data"
    },
    {
     "data": {
      "text/html": [
       "Run data is saved locally in <code>c:\\Users\\salee\\OneDrive - Technion\\Data science\\semester 8\\DeepLearningGeo\\Project\\wandb\\run-20241002_152119-jofi1671</code>"
      ],
      "text/plain": [
       "<IPython.core.display.HTML object>"
      ]
     },
     "metadata": {},
     "output_type": "display_data"
    },
    {
     "data": {
      "text/html": [
       "Syncing run <strong><a href='https://wandb.ai/technionsaleem/GeoDL/runs/jofi1671' target=\"_blank\">ethereal-sweep-5</a></strong> to <a href='https://wandb.ai/technionsaleem/GeoDL' target=\"_blank\">Weights & Biases</a> (<a href='https://wandb.me/run' target=\"_blank\">docs</a>)<br/>Sweep page: <a href='https://wandb.ai/technionsaleem/GeoDL/sweeps/pqgcsuwo' target=\"_blank\">https://wandb.ai/technionsaleem/GeoDL/sweeps/pqgcsuwo</a>"
      ],
      "text/plain": [
       "<IPython.core.display.HTML object>"
      ]
     },
     "metadata": {},
     "output_type": "display_data"
    },
    {
     "data": {
      "text/html": [
       " View project at <a href='https://wandb.ai/technionsaleem/GeoDL' target=\"_blank\">https://wandb.ai/technionsaleem/GeoDL</a>"
      ],
      "text/plain": [
       "<IPython.core.display.HTML object>"
      ]
     },
     "metadata": {},
     "output_type": "display_data"
    },
    {
     "data": {
      "text/html": [
       " View sweep at <a href='https://wandb.ai/technionsaleem/GeoDL/sweeps/pqgcsuwo' target=\"_blank\">https://wandb.ai/technionsaleem/GeoDL/sweeps/pqgcsuwo</a>"
      ],
      "text/plain": [
       "<IPython.core.display.HTML object>"
      ]
     },
     "metadata": {},
     "output_type": "display_data"
    },
    {
     "data": {
      "text/html": [
       " View run at <a href='https://wandb.ai/technionsaleem/GeoDL/runs/jofi1671' target=\"_blank\">https://wandb.ai/technionsaleem/GeoDL/runs/jofi1671</a>"
      ],
      "text/plain": [
       "<IPython.core.display.HTML object>"
      ]
     },
     "metadata": {},
     "output_type": "display_data"
    },
    {
     "data": {
      "application/vnd.jupyter.widget-view+json": {
       "model_id": "ae70ca88094e47f38f3261bd751a0a07",
       "version_major": 2,
       "version_minor": 0
      },
      "text/plain": [
       "VBox(children=(Label(value='0.001 MB of 0.006 MB uploaded\\r'), FloatProgress(value=0.19460726846424384, max=1.…"
      ]
     },
     "metadata": {},
     "output_type": "display_data"
    },
    {
     "data": {
      "text/html": [
       "<style>\n",
       "    table.wandb td:nth-child(1) { padding: 0 10px; text-align: left ; width: auto;} td:nth-child(2) {text-align: left ; width: 100%}\n",
       "    .wandb-row { display: flex; flex-direction: row; flex-wrap: wrap; justify-content: flex-start; width: 100% }\n",
       "    .wandb-col { display: flex; flex-direction: column; flex-basis: 100%; flex: 1; padding: 10px; }\n",
       "    </style>\n",
       "<div class=\"wandb-row\"><div class=\"wandb-col\"><h3>Run history:</h3><br/><table class=\"wandb\"><tr><td>batch loss</td><td>█▇▇█▇▇▅▆▇▇▇▅▄▅▄▇▃▄▆▅▅▃▅▆▂▄▄▄▅▃▃▄▃▃▃▃▅▁▅▁</td></tr><tr><td>batch train accuracy</td><td>▃▁▁▂▃▁▃▃▂▃▃▃▄▅▅▁▅▄▃▄▃▆▄▃█▅▅▅▄▇▆▅▇▆▆▅▄█▅█</td></tr><tr><td>epoch</td><td>▁▁▁▂▂▂▃▃▃▃▃▃▄▄▄▅▅▅▆▆▆▆▆▆▇▇▇███</td></tr><tr><td>loss</td><td>█▇▆▄▅▄▃▃▂▁</td></tr><tr><td>train accuracy</td><td>▁▂▃▄▄▅▇▇▇█</td></tr><tr><td>val accuracy</td><td>▂▂▁▁▃▄█▂▇▇</td></tr></table><br/></div><div class=\"wandb-col\"><h3>Run summary:</h3><br/><table class=\"wandb\"><tr><td>batch loss</td><td>0.92878</td></tr><tr><td>batch train accuracy</td><td>0.68874</td></tr><tr><td>epoch</td><td>9</td></tr><tr><td>loss</td><td>1.20362</td></tr><tr><td>train accuracy</td><td>0.58699</td></tr><tr><td>val accuracy</td><td>0.4055</td></tr></table><br/></div></div>"
      ],
      "text/plain": [
       "<IPython.core.display.HTML object>"
      ]
     },
     "metadata": {},
     "output_type": "display_data"
    },
    {
     "data": {
      "text/html": [
       " View run <strong style=\"color:#cdcd00\">ethereal-sweep-5</strong> at: <a href='https://wandb.ai/technionsaleem/GeoDL/runs/jofi1671' target=\"_blank\">https://wandb.ai/technionsaleem/GeoDL/runs/jofi1671</a><br/> View project at: <a href='https://wandb.ai/technionsaleem/GeoDL' target=\"_blank\">https://wandb.ai/technionsaleem/GeoDL</a><br/>Synced 4 W&B file(s), 0 media file(s), 0 artifact file(s) and 0 other file(s)"
      ],
      "text/plain": [
       "<IPython.core.display.HTML object>"
      ]
     },
     "metadata": {},
     "output_type": "display_data"
    },
    {
     "data": {
      "text/html": [
       "Find logs at: <code>.\\wandb\\run-20241002_152119-jofi1671\\logs</code>"
      ],
      "text/plain": [
       "<IPython.core.display.HTML object>"
      ]
     },
     "metadata": {},
     "output_type": "display_data"
    },
    {
     "name": "stderr",
     "output_type": "stream",
     "text": [
      "\u001b[34m\u001b[1mwandb\u001b[0m: Agent Starting Run: 2lsoc5re with config:\n",
      "\u001b[34m\u001b[1mwandb\u001b[0m: \tbatch_size: 256\n",
      "\u001b[34m\u001b[1mwandb\u001b[0m: \tepochs: 10\n",
      "\u001b[34m\u001b[1mwandb\u001b[0m: \tlearning_rate: 5e-05\n",
      "\u001b[34m\u001b[1mwandb\u001b[0m: \tn_samples: 128\n",
      "\u001b[34m\u001b[1mwandb\u001b[0m: \toptimizer: adam\n",
      "\u001b[34m\u001b[1mwandb\u001b[0m: \tweight_decay: 0.0001\n",
      "Failed to detect the name of this notebook, you can set it manually with the WANDB_NOTEBOOK_NAME environment variable to enable code saving.\n"
     ]
    },
    {
     "data": {
      "text/html": [
       "wandb version 0.18.3 is available!  To upgrade, please run:\n",
       " $ pip install wandb --upgrade"
      ],
      "text/plain": [
       "<IPython.core.display.HTML object>"
      ]
     },
     "metadata": {},
     "output_type": "display_data"
    },
    {
     "data": {
      "text/html": [
       "Tracking run with wandb version 0.17.0"
      ],
      "text/plain": [
       "<IPython.core.display.HTML object>"
      ]
     },
     "metadata": {},
     "output_type": "display_data"
    },
    {
     "data": {
      "text/html": [
       "Run data is saved locally in <code>c:\\Users\\salee\\OneDrive - Technion\\Data science\\semester 8\\DeepLearningGeo\\Project\\wandb\\run-20241002_152241-2lsoc5re</code>"
      ],
      "text/plain": [
       "<IPython.core.display.HTML object>"
      ]
     },
     "metadata": {},
     "output_type": "display_data"
    },
    {
     "data": {
      "text/html": [
       "Syncing run <strong><a href='https://wandb.ai/technionsaleem/GeoDL/runs/2lsoc5re' target=\"_blank\">fluent-sweep-6</a></strong> to <a href='https://wandb.ai/technionsaleem/GeoDL' target=\"_blank\">Weights & Biases</a> (<a href='https://wandb.me/run' target=\"_blank\">docs</a>)<br/>Sweep page: <a href='https://wandb.ai/technionsaleem/GeoDL/sweeps/pqgcsuwo' target=\"_blank\">https://wandb.ai/technionsaleem/GeoDL/sweeps/pqgcsuwo</a>"
      ],
      "text/plain": [
       "<IPython.core.display.HTML object>"
      ]
     },
     "metadata": {},
     "output_type": "display_data"
    },
    {
     "data": {
      "text/html": [
       " View project at <a href='https://wandb.ai/technionsaleem/GeoDL' target=\"_blank\">https://wandb.ai/technionsaleem/GeoDL</a>"
      ],
      "text/plain": [
       "<IPython.core.display.HTML object>"
      ]
     },
     "metadata": {},
     "output_type": "display_data"
    },
    {
     "data": {
      "text/html": [
       " View sweep at <a href='https://wandb.ai/technionsaleem/GeoDL/sweeps/pqgcsuwo' target=\"_blank\">https://wandb.ai/technionsaleem/GeoDL/sweeps/pqgcsuwo</a>"
      ],
      "text/plain": [
       "<IPython.core.display.HTML object>"
      ]
     },
     "metadata": {},
     "output_type": "display_data"
    },
    {
     "data": {
      "text/html": [
       " View run at <a href='https://wandb.ai/technionsaleem/GeoDL/runs/2lsoc5re' target=\"_blank\">https://wandb.ai/technionsaleem/GeoDL/runs/2lsoc5re</a>"
      ],
      "text/plain": [
       "<IPython.core.display.HTML object>"
      ]
     },
     "metadata": {},
     "output_type": "display_data"
    },
    {
     "data": {
      "application/vnd.jupyter.widget-view+json": {
       "model_id": "8654933a4311447ca84371d94c77fcc0",
       "version_major": 2,
       "version_minor": 0
      },
      "text/plain": [
       "VBox(children=(Label(value='0.006 MB of 0.006 MB uploaded\\r'), FloatProgress(value=1.0, max=1.0)))"
      ]
     },
     "metadata": {},
     "output_type": "display_data"
    },
    {
     "data": {
      "text/html": [
       "<style>\n",
       "    table.wandb td:nth-child(1) { padding: 0 10px; text-align: left ; width: auto;} td:nth-child(2) {text-align: left ; width: 100%}\n",
       "    .wandb-row { display: flex; flex-direction: row; flex-wrap: wrap; justify-content: flex-start; width: 100% }\n",
       "    .wandb-col { display: flex; flex-direction: column; flex-basis: 100%; flex: 1; padding: 10px; }\n",
       "    </style>\n",
       "<div class=\"wandb-row\"><div class=\"wandb-col\"><h3>Run history:</h3><br/><table class=\"wandb\"><tr><td>batch loss</td><td>███▇█▇▇▇▇▆▆▇▇▆▅▅▅▆▆▄▄▅▆▃▂▃▅▃▄▁▂▄▂▃▃▃▃▅▂▃</td></tr><tr><td>batch train accuracy</td><td>▁▂▃▃▂▂▆▃▅▇▆▂▄▃▄▃▅▃▄▅▄▃▃▅█▇▂▅▄█▅▂▅▄█▄▆▄▆▅</td></tr><tr><td>epoch</td><td>▁▁▁▂▂▂▃▃▃▃▃▃▄▄▄▅▅▅▆▆▆▆▆▆▇▇▇███</td></tr><tr><td>loss</td><td>█▇▇▆▅▄▃▂▁▁</td></tr><tr><td>train accuracy</td><td>▁▄▅▄▄▄▅▆██</td></tr><tr><td>val accuracy</td><td>▁▆▃▁▂▄▂▆▅█</td></tr></table><br/></div><div class=\"wandb-col\"><h3>Run summary:</h3><br/><table class=\"wandb\"><tr><td>batch loss</td><td>2.05483</td></tr><tr><td>batch train accuracy</td><td>0.29139</td></tr><tr><td>epoch</td><td>9</td></tr><tr><td>loss</td><td>2.00653</td></tr><tr><td>train accuracy</td><td>0.33608</td></tr><tr><td>val accuracy</td><td>0.12606</td></tr></table><br/></div></div>"
      ],
      "text/plain": [
       "<IPython.core.display.HTML object>"
      ]
     },
     "metadata": {},
     "output_type": "display_data"
    },
    {
     "data": {
      "text/html": [
       " View run <strong style=\"color:#cdcd00\">fluent-sweep-6</strong> at: <a href='https://wandb.ai/technionsaleem/GeoDL/runs/2lsoc5re' target=\"_blank\">https://wandb.ai/technionsaleem/GeoDL/runs/2lsoc5re</a><br/> View project at: <a href='https://wandb.ai/technionsaleem/GeoDL' target=\"_blank\">https://wandb.ai/technionsaleem/GeoDL</a><br/>Synced 4 W&B file(s), 0 media file(s), 0 artifact file(s) and 0 other file(s)"
      ],
      "text/plain": [
       "<IPython.core.display.HTML object>"
      ]
     },
     "metadata": {},
     "output_type": "display_data"
    },
    {
     "data": {
      "text/html": [
       "Find logs at: <code>.\\wandb\\run-20241002_152241-2lsoc5re\\logs</code>"
      ],
      "text/plain": [
       "<IPython.core.display.HTML object>"
      ]
     },
     "metadata": {},
     "output_type": "display_data"
    },
    {
     "name": "stderr",
     "output_type": "stream",
     "text": [
      "\u001b[34m\u001b[1mwandb\u001b[0m: Agent Starting Run: smfp4f7q with config:\n",
      "\u001b[34m\u001b[1mwandb\u001b[0m: \tbatch_size: 32\n",
      "\u001b[34m\u001b[1mwandb\u001b[0m: \tepochs: 10\n",
      "\u001b[34m\u001b[1mwandb\u001b[0m: \tlearning_rate: 5e-05\n",
      "\u001b[34m\u001b[1mwandb\u001b[0m: \tn_samples: 512\n",
      "\u001b[34m\u001b[1mwandb\u001b[0m: \toptimizer: adam\n",
      "\u001b[34m\u001b[1mwandb\u001b[0m: \tweight_decay: 0\n",
      "Failed to detect the name of this notebook, you can set it manually with the WANDB_NOTEBOOK_NAME environment variable to enable code saving.\n"
     ]
    },
    {
     "data": {
      "text/html": [
       "wandb version 0.18.3 is available!  To upgrade, please run:\n",
       " $ pip install wandb --upgrade"
      ],
      "text/plain": [
       "<IPython.core.display.HTML object>"
      ]
     },
     "metadata": {},
     "output_type": "display_data"
    },
    {
     "data": {
      "text/html": [
       "Tracking run with wandb version 0.17.0"
      ],
      "text/plain": [
       "<IPython.core.display.HTML object>"
      ]
     },
     "metadata": {},
     "output_type": "display_data"
    },
    {
     "data": {
      "text/html": [
       "Run data is saved locally in <code>c:\\Users\\salee\\OneDrive - Technion\\Data science\\semester 8\\DeepLearningGeo\\Project\\wandb\\run-20241002_152405-smfp4f7q</code>"
      ],
      "text/plain": [
       "<IPython.core.display.HTML object>"
      ]
     },
     "metadata": {},
     "output_type": "display_data"
    },
    {
     "data": {
      "text/html": [
       "Syncing run <strong><a href='https://wandb.ai/technionsaleem/GeoDL/runs/smfp4f7q' target=\"_blank\">denim-sweep-7</a></strong> to <a href='https://wandb.ai/technionsaleem/GeoDL' target=\"_blank\">Weights & Biases</a> (<a href='https://wandb.me/run' target=\"_blank\">docs</a>)<br/>Sweep page: <a href='https://wandb.ai/technionsaleem/GeoDL/sweeps/pqgcsuwo' target=\"_blank\">https://wandb.ai/technionsaleem/GeoDL/sweeps/pqgcsuwo</a>"
      ],
      "text/plain": [
       "<IPython.core.display.HTML object>"
      ]
     },
     "metadata": {},
     "output_type": "display_data"
    },
    {
     "data": {
      "text/html": [
       " View project at <a href='https://wandb.ai/technionsaleem/GeoDL' target=\"_blank\">https://wandb.ai/technionsaleem/GeoDL</a>"
      ],
      "text/plain": [
       "<IPython.core.display.HTML object>"
      ]
     },
     "metadata": {},
     "output_type": "display_data"
    },
    {
     "data": {
      "text/html": [
       " View sweep at <a href='https://wandb.ai/technionsaleem/GeoDL/sweeps/pqgcsuwo' target=\"_blank\">https://wandb.ai/technionsaleem/GeoDL/sweeps/pqgcsuwo</a>"
      ],
      "text/plain": [
       "<IPython.core.display.HTML object>"
      ]
     },
     "metadata": {},
     "output_type": "display_data"
    },
    {
     "data": {
      "text/html": [
       " View run at <a href='https://wandb.ai/technionsaleem/GeoDL/runs/smfp4f7q' target=\"_blank\">https://wandb.ai/technionsaleem/GeoDL/runs/smfp4f7q</a>"
      ],
      "text/plain": [
       "<IPython.core.display.HTML object>"
      ]
     },
     "metadata": {},
     "output_type": "display_data"
    },
    {
     "data": {
      "application/vnd.jupyter.widget-view+json": {
       "model_id": "d40d21b518664f208ee0fa8f096f33fc",
       "version_major": 2,
       "version_minor": 0
      },
      "text/plain": [
       "VBox(children=(Label(value='0.005 MB of 0.006 MB uploaded\\r'), FloatProgress(value=0.8198054536756498, max=1.0…"
      ]
     },
     "metadata": {},
     "output_type": "display_data"
    },
    {
     "data": {
      "text/html": [
       "<style>\n",
       "    table.wandb td:nth-child(1) { padding: 0 10px; text-align: left ; width: auto;} td:nth-child(2) {text-align: left ; width: 100%}\n",
       "    .wandb-row { display: flex; flex-direction: row; flex-wrap: wrap; justify-content: flex-start; width: 100% }\n",
       "    .wandb-col { display: flex; flex-direction: column; flex-basis: 100%; flex: 1; padding: 10px; }\n",
       "    </style>\n",
       "<div class=\"wandb-row\"><div class=\"wandb-col\"><h3>Run history:</h3><br/><table class=\"wandb\"><tr><td>batch loss</td><td>▇▇█▇▆▅▅▆▃▆▆▄▄▃▅▂▄▅▄▂▇▂▄▆▁▁▂▃▇▂▂▂▂▁▂▂▁▂▄▄</td></tr><tr><td>batch train accuracy</td><td>▁▂▃▃▅▅▅▃▇▃▄▅▆▆▅▇▅▅▆▆▃▇▅▃▇█▇▇▂▇▇█▆▇▇▆█▆▅▅</td></tr><tr><td>epoch</td><td>▁▁▁▂▂▂▃▃▃▃▃▃▄▄▄▅▅▅▆▆▆▆▆▆▇▇▇███</td></tr><tr><td>loss</td><td>█▆▅▄▃▂▂▂▁▁</td></tr><tr><td>train accuracy</td><td>▁▃▅▅▆▇▇▇██</td></tr><tr><td>val accuracy</td><td>▁▁▄▄▅█▅▆▆▇</td></tr></table><br/></div><div class=\"wandb-col\"><h3>Run summary:</h3><br/><table class=\"wandb\"><tr><td>batch loss</td><td>0.52597</td></tr><tr><td>batch train accuracy</td><td>0.82609</td></tr><tr><td>epoch</td><td>9</td></tr><tr><td>loss</td><td>0.91192</td></tr><tr><td>train accuracy</td><td>0.70211</td></tr><tr><td>val accuracy</td><td>0.26832</td></tr></table><br/></div></div>"
      ],
      "text/plain": [
       "<IPython.core.display.HTML object>"
      ]
     },
     "metadata": {},
     "output_type": "display_data"
    },
    {
     "data": {
      "text/html": [
       " View run <strong style=\"color:#cdcd00\">denim-sweep-7</strong> at: <a href='https://wandb.ai/technionsaleem/GeoDL/runs/smfp4f7q' target=\"_blank\">https://wandb.ai/technionsaleem/GeoDL/runs/smfp4f7q</a><br/> View project at: <a href='https://wandb.ai/technionsaleem/GeoDL' target=\"_blank\">https://wandb.ai/technionsaleem/GeoDL</a><br/>Synced 4 W&B file(s), 0 media file(s), 0 artifact file(s) and 0 other file(s)"
      ],
      "text/plain": [
       "<IPython.core.display.HTML object>"
      ]
     },
     "metadata": {},
     "output_type": "display_data"
    },
    {
     "data": {
      "text/html": [
       "Find logs at: <code>.\\wandb\\run-20241002_152405-smfp4f7q\\logs</code>"
      ],
      "text/plain": [
       "<IPython.core.display.HTML object>"
      ]
     },
     "metadata": {},
     "output_type": "display_data"
    },
    {
     "name": "stderr",
     "output_type": "stream",
     "text": [
      "\u001b[34m\u001b[1mwandb\u001b[0m: Agent Starting Run: 49vv4ze1 with config:\n",
      "\u001b[34m\u001b[1mwandb\u001b[0m: \tbatch_size: 64\n",
      "\u001b[34m\u001b[1mwandb\u001b[0m: \tepochs: 10\n",
      "\u001b[34m\u001b[1mwandb\u001b[0m: \tlearning_rate: 0.001\n",
      "\u001b[34m\u001b[1mwandb\u001b[0m: \tn_samples: 128\n",
      "\u001b[34m\u001b[1mwandb\u001b[0m: \toptimizer: adam\n",
      "\u001b[34m\u001b[1mwandb\u001b[0m: \tweight_decay: 0.0001\n",
      "Failed to detect the name of this notebook, you can set it manually with the WANDB_NOTEBOOK_NAME environment variable to enable code saving.\n"
     ]
    },
    {
     "data": {
      "text/html": [
       "wandb version 0.18.3 is available!  To upgrade, please run:\n",
       " $ pip install wandb --upgrade"
      ],
      "text/plain": [
       "<IPython.core.display.HTML object>"
      ]
     },
     "metadata": {},
     "output_type": "display_data"
    },
    {
     "data": {
      "text/html": [
       "Tracking run with wandb version 0.17.0"
      ],
      "text/plain": [
       "<IPython.core.display.HTML object>"
      ]
     },
     "metadata": {},
     "output_type": "display_data"
    },
    {
     "data": {
      "text/html": [
       "Run data is saved locally in <code>c:\\Users\\salee\\OneDrive - Technion\\Data science\\semester 8\\DeepLearningGeo\\Project\\wandb\\run-20241002_152600-49vv4ze1</code>"
      ],
      "text/plain": [
       "<IPython.core.display.HTML object>"
      ]
     },
     "metadata": {},
     "output_type": "display_data"
    },
    {
     "data": {
      "text/html": [
       "Syncing run <strong><a href='https://wandb.ai/technionsaleem/GeoDL/runs/49vv4ze1' target=\"_blank\">hopeful-sweep-8</a></strong> to <a href='https://wandb.ai/technionsaleem/GeoDL' target=\"_blank\">Weights & Biases</a> (<a href='https://wandb.me/run' target=\"_blank\">docs</a>)<br/>Sweep page: <a href='https://wandb.ai/technionsaleem/GeoDL/sweeps/pqgcsuwo' target=\"_blank\">https://wandb.ai/technionsaleem/GeoDL/sweeps/pqgcsuwo</a>"
      ],
      "text/plain": [
       "<IPython.core.display.HTML object>"
      ]
     },
     "metadata": {},
     "output_type": "display_data"
    },
    {
     "data": {
      "text/html": [
       " View project at <a href='https://wandb.ai/technionsaleem/GeoDL' target=\"_blank\">https://wandb.ai/technionsaleem/GeoDL</a>"
      ],
      "text/plain": [
       "<IPython.core.display.HTML object>"
      ]
     },
     "metadata": {},
     "output_type": "display_data"
    },
    {
     "data": {
      "text/html": [
       " View sweep at <a href='https://wandb.ai/technionsaleem/GeoDL/sweeps/pqgcsuwo' target=\"_blank\">https://wandb.ai/technionsaleem/GeoDL/sweeps/pqgcsuwo</a>"
      ],
      "text/plain": [
       "<IPython.core.display.HTML object>"
      ]
     },
     "metadata": {},
     "output_type": "display_data"
    },
    {
     "data": {
      "text/html": [
       " View run at <a href='https://wandb.ai/technionsaleem/GeoDL/runs/49vv4ze1' target=\"_blank\">https://wandb.ai/technionsaleem/GeoDL/runs/49vv4ze1</a>"
      ],
      "text/plain": [
       "<IPython.core.display.HTML object>"
      ]
     },
     "metadata": {},
     "output_type": "display_data"
    },
    {
     "data": {
      "application/vnd.jupyter.widget-view+json": {
       "model_id": "f6292a2be8ee45f5a66f5e8a16df2e55",
       "version_major": 2,
       "version_minor": 0
      },
      "text/plain": [
       "VBox(children=(Label(value='0.006 MB of 0.006 MB uploaded\\r'), FloatProgress(value=1.0, max=1.0)))"
      ]
     },
     "metadata": {},
     "output_type": "display_data"
    },
    {
     "data": {
      "text/html": [
       "<style>\n",
       "    table.wandb td:nth-child(1) { padding: 0 10px; text-align: left ; width: auto;} td:nth-child(2) {text-align: left ; width: 100%}\n",
       "    .wandb-row { display: flex; flex-direction: row; flex-wrap: wrap; justify-content: flex-start; width: 100% }\n",
       "    .wandb-col { display: flex; flex-direction: column; flex-basis: 100%; flex: 1; padding: 10px; }\n",
       "    </style>\n",
       "<div class=\"wandb-row\"><div class=\"wandb-col\"><h3>Run history:</h3><br/><table class=\"wandb\"><tr><td>batch loss</td><td>█▇▆█▆▅█▄▄▄▃▇█▄▁▆▃█▅▃▂▆▂▂▃▅▃▁▆▄▂▂▂▁▃▅▁▃▁▂</td></tr><tr><td>batch train accuracy</td><td>▁▄▄▂▃▃▃▆▄▆▅▃▁▅█▂▆▂▄▆▆▄▇▇▆▅▇▇▃▆▇▇▇▇▆▅█▇██</td></tr><tr><td>epoch</td><td>▁▁▁▂▂▂▃▃▃▃▃▃▄▄▄▅▅▅▆▆▆▆▆▆▇▇▇███</td></tr><tr><td>loss</td><td>█▆▄▃▂▂▂▁▁▁</td></tr><tr><td>train accuracy</td><td>▁▃▅▆▇▇▇███</td></tr><tr><td>val accuracy</td><td>▁▄▂▃█▆▃▆▆▅</td></tr></table><br/></div><div class=\"wandb-col\"><h3>Run summary:</h3><br/><table class=\"wandb\"><tr><td>batch loss</td><td>0.43004</td></tr><tr><td>batch train accuracy</td><td>0.82609</td></tr><tr><td>epoch</td><td>9</td></tr><tr><td>loss</td><td>0.80929</td></tr><tr><td>train accuracy</td><td>0.72269</td></tr><tr><td>val accuracy</td><td>0.23958</td></tr></table><br/></div></div>"
      ],
      "text/plain": [
       "<IPython.core.display.HTML object>"
      ]
     },
     "metadata": {},
     "output_type": "display_data"
    },
    {
     "data": {
      "text/html": [
       " View run <strong style=\"color:#cdcd00\">hopeful-sweep-8</strong> at: <a href='https://wandb.ai/technionsaleem/GeoDL/runs/49vv4ze1' target=\"_blank\">https://wandb.ai/technionsaleem/GeoDL/runs/49vv4ze1</a><br/> View project at: <a href='https://wandb.ai/technionsaleem/GeoDL' target=\"_blank\">https://wandb.ai/technionsaleem/GeoDL</a><br/>Synced 4 W&B file(s), 0 media file(s), 0 artifact file(s) and 0 other file(s)"
      ],
      "text/plain": [
       "<IPython.core.display.HTML object>"
      ]
     },
     "metadata": {},
     "output_type": "display_data"
    },
    {
     "data": {
      "text/html": [
       "Find logs at: <code>.\\wandb\\run-20241002_152600-49vv4ze1\\logs</code>"
      ],
      "text/plain": [
       "<IPython.core.display.HTML object>"
      ]
     },
     "metadata": {},
     "output_type": "display_data"
    },
    {
     "name": "stderr",
     "output_type": "stream",
     "text": [
      "\u001b[34m\u001b[1mwandb\u001b[0m: Sweep Agent: Waiting for job.\n",
      "\u001b[34m\u001b[1mwandb\u001b[0m: Job received.\n",
      "\u001b[34m\u001b[1mwandb\u001b[0m: Agent Starting Run: u5p73yc3 with config:\n",
      "\u001b[34m\u001b[1mwandb\u001b[0m: \tbatch_size: 256\n",
      "\u001b[34m\u001b[1mwandb\u001b[0m: \tepochs: 10\n",
      "\u001b[34m\u001b[1mwandb\u001b[0m: \tlearning_rate: 0.001\n",
      "\u001b[34m\u001b[1mwandb\u001b[0m: \tn_samples: 128\n",
      "\u001b[34m\u001b[1mwandb\u001b[0m: \toptimizer: adam\n",
      "\u001b[34m\u001b[1mwandb\u001b[0m: \tweight_decay: 0\n",
      "Failed to detect the name of this notebook, you can set it manually with the WANDB_NOTEBOOK_NAME environment variable to enable code saving.\n"
     ]
    },
    {
     "data": {
      "text/html": [
       "wandb version 0.18.3 is available!  To upgrade, please run:\n",
       " $ pip install wandb --upgrade"
      ],
      "text/plain": [
       "<IPython.core.display.HTML object>"
      ]
     },
     "metadata": {},
     "output_type": "display_data"
    },
    {
     "data": {
      "text/html": [
       "Tracking run with wandb version 0.17.0"
      ],
      "text/plain": [
       "<IPython.core.display.HTML object>"
      ]
     },
     "metadata": {},
     "output_type": "display_data"
    },
    {
     "data": {
      "text/html": [
       "Run data is saved locally in <code>c:\\Users\\salee\\OneDrive - Technion\\Data science\\semester 8\\DeepLearningGeo\\Project\\wandb\\run-20241002_152739-u5p73yc3</code>"
      ],
      "text/plain": [
       "<IPython.core.display.HTML object>"
      ]
     },
     "metadata": {},
     "output_type": "display_data"
    },
    {
     "data": {
      "text/html": [
       "Syncing run <strong><a href='https://wandb.ai/technionsaleem/GeoDL/runs/u5p73yc3' target=\"_blank\">fallen-sweep-9</a></strong> to <a href='https://wandb.ai/technionsaleem/GeoDL' target=\"_blank\">Weights & Biases</a> (<a href='https://wandb.me/run' target=\"_blank\">docs</a>)<br/>Sweep page: <a href='https://wandb.ai/technionsaleem/GeoDL/sweeps/pqgcsuwo' target=\"_blank\">https://wandb.ai/technionsaleem/GeoDL/sweeps/pqgcsuwo</a>"
      ],
      "text/plain": [
       "<IPython.core.display.HTML object>"
      ]
     },
     "metadata": {},
     "output_type": "display_data"
    },
    {
     "data": {
      "text/html": [
       " View project at <a href='https://wandb.ai/technionsaleem/GeoDL' target=\"_blank\">https://wandb.ai/technionsaleem/GeoDL</a>"
      ],
      "text/plain": [
       "<IPython.core.display.HTML object>"
      ]
     },
     "metadata": {},
     "output_type": "display_data"
    },
    {
     "data": {
      "text/html": [
       " View sweep at <a href='https://wandb.ai/technionsaleem/GeoDL/sweeps/pqgcsuwo' target=\"_blank\">https://wandb.ai/technionsaleem/GeoDL/sweeps/pqgcsuwo</a>"
      ],
      "text/plain": [
       "<IPython.core.display.HTML object>"
      ]
     },
     "metadata": {},
     "output_type": "display_data"
    },
    {
     "data": {
      "text/html": [
       " View run at <a href='https://wandb.ai/technionsaleem/GeoDL/runs/u5p73yc3' target=\"_blank\">https://wandb.ai/technionsaleem/GeoDL/runs/u5p73yc3</a>"
      ],
      "text/plain": [
       "<IPython.core.display.HTML object>"
      ]
     },
     "metadata": {},
     "output_type": "display_data"
    },
    {
     "data": {
      "application/vnd.jupyter.widget-view+json": {
       "model_id": "b5a408fa3e314656904317c06d4af5f3",
       "version_major": 2,
       "version_minor": 0
      },
      "text/plain": [
       "VBox(children=(Label(value='0.005 MB of 0.006 MB uploaded\\r'), FloatProgress(value=0.8202265114053278, max=1.0…"
      ]
     },
     "metadata": {},
     "output_type": "display_data"
    },
    {
     "data": {
      "text/html": [
       "<style>\n",
       "    table.wandb td:nth-child(1) { padding: 0 10px; text-align: left ; width: auto;} td:nth-child(2) {text-align: left ; width: 100%}\n",
       "    .wandb-row { display: flex; flex-direction: row; flex-wrap: wrap; justify-content: flex-start; width: 100% }\n",
       "    .wandb-col { display: flex; flex-direction: column; flex-basis: 100%; flex: 1; padding: 10px; }\n",
       "    </style>\n",
       "<div class=\"wandb-row\"><div class=\"wandb-col\"><h3>Run history:</h3><br/><table class=\"wandb\"><tr><td>batch loss</td><td>█▇▇▆▆▆▆▅▅▇▆▅▇▇▆▆▄▄▄▅▄▃▂▄▂▄█▂▂▄▂▅▃▂▅▄▁▄▁▇</td></tr><tr><td>batch train accuracy</td><td>▁▂▂▃▄▃▄▄▄▂▂▄▂▂▅▂▅▄▄▄▅▆█▄▇▅▂▇▇▅█▅▆▇▅▆█▅▇▃</td></tr><tr><td>epoch</td><td>▁▁▁▂▂▂▃▃▃▃▃▃▄▄▄▅▅▅▆▆▆▆▆▆▇▇▇███</td></tr><tr><td>loss</td><td>█▆▆▆▄▂▂▁▁▁</td></tr><tr><td>train accuracy</td><td>▁▃▃▄▅▇▇███</td></tr><tr><td>val accuracy</td><td>▁▁▁▂▃▄█▆▆▅</td></tr></table><br/></div><div class=\"wandb-col\"><h3>Run summary:</h3><br/><table class=\"wandb\"><tr><td>batch loss</td><td>2.08962</td></tr><tr><td>batch train accuracy</td><td>0.33113</td></tr><tr><td>epoch</td><td>9</td></tr><tr><td>loss</td><td>1.40999</td></tr><tr><td>train accuracy</td><td>0.51752</td></tr><tr><td>val accuracy</td><td>0.21554</td></tr></table><br/></div></div>"
      ],
      "text/plain": [
       "<IPython.core.display.HTML object>"
      ]
     },
     "metadata": {},
     "output_type": "display_data"
    },
    {
     "data": {
      "text/html": [
       " View run <strong style=\"color:#cdcd00\">fallen-sweep-9</strong> at: <a href='https://wandb.ai/technionsaleem/GeoDL/runs/u5p73yc3' target=\"_blank\">https://wandb.ai/technionsaleem/GeoDL/runs/u5p73yc3</a><br/> View project at: <a href='https://wandb.ai/technionsaleem/GeoDL' target=\"_blank\">https://wandb.ai/technionsaleem/GeoDL</a><br/>Synced 4 W&B file(s), 0 media file(s), 0 artifact file(s) and 0 other file(s)"
      ],
      "text/plain": [
       "<IPython.core.display.HTML object>"
      ]
     },
     "metadata": {},
     "output_type": "display_data"
    },
    {
     "data": {
      "text/html": [
       "Find logs at: <code>.\\wandb\\run-20241002_152739-u5p73yc3\\logs</code>"
      ],
      "text/plain": [
       "<IPython.core.display.HTML object>"
      ]
     },
     "metadata": {},
     "output_type": "display_data"
    },
    {
     "name": "stderr",
     "output_type": "stream",
     "text": [
      "\u001b[34m\u001b[1mwandb\u001b[0m: Sweep Agent: Waiting for job.\n",
      "\u001b[34m\u001b[1mwandb\u001b[0m: Job received.\n",
      "\u001b[34m\u001b[1mwandb\u001b[0m: Agent Starting Run: 66jqdg9m with config:\n",
      "\u001b[34m\u001b[1mwandb\u001b[0m: \tbatch_size: 256\n",
      "\u001b[34m\u001b[1mwandb\u001b[0m: \tepochs: 10\n",
      "\u001b[34m\u001b[1mwandb\u001b[0m: \tlearning_rate: 0.0005\n",
      "\u001b[34m\u001b[1mwandb\u001b[0m: \tn_samples: 128\n",
      "\u001b[34m\u001b[1mwandb\u001b[0m: \toptimizer: adam\n",
      "\u001b[34m\u001b[1mwandb\u001b[0m: \tweight_decay: 0\n",
      "Failed to detect the name of this notebook, you can set it manually with the WANDB_NOTEBOOK_NAME environment variable to enable code saving.\n"
     ]
    },
    {
     "data": {
      "text/html": [
       "wandb version 0.18.3 is available!  To upgrade, please run:\n",
       " $ pip install wandb --upgrade"
      ],
      "text/plain": [
       "<IPython.core.display.HTML object>"
      ]
     },
     "metadata": {},
     "output_type": "display_data"
    },
    {
     "data": {
      "text/html": [
       "Tracking run with wandb version 0.17.0"
      ],
      "text/plain": [
       "<IPython.core.display.HTML object>"
      ]
     },
     "metadata": {},
     "output_type": "display_data"
    },
    {
     "data": {
      "text/html": [
       "Run data is saved locally in <code>c:\\Users\\salee\\OneDrive - Technion\\Data science\\semester 8\\DeepLearningGeo\\Project\\wandb\\run-20241002_152904-66jqdg9m</code>"
      ],
      "text/plain": [
       "<IPython.core.display.HTML object>"
      ]
     },
     "metadata": {},
     "output_type": "display_data"
    },
    {
     "data": {
      "text/html": [
       "Syncing run <strong><a href='https://wandb.ai/technionsaleem/GeoDL/runs/66jqdg9m' target=\"_blank\">hardy-sweep-10</a></strong> to <a href='https://wandb.ai/technionsaleem/GeoDL' target=\"_blank\">Weights & Biases</a> (<a href='https://wandb.me/run' target=\"_blank\">docs</a>)<br/>Sweep page: <a href='https://wandb.ai/technionsaleem/GeoDL/sweeps/pqgcsuwo' target=\"_blank\">https://wandb.ai/technionsaleem/GeoDL/sweeps/pqgcsuwo</a>"
      ],
      "text/plain": [
       "<IPython.core.display.HTML object>"
      ]
     },
     "metadata": {},
     "output_type": "display_data"
    },
    {
     "data": {
      "text/html": [
       " View project at <a href='https://wandb.ai/technionsaleem/GeoDL' target=\"_blank\">https://wandb.ai/technionsaleem/GeoDL</a>"
      ],
      "text/plain": [
       "<IPython.core.display.HTML object>"
      ]
     },
     "metadata": {},
     "output_type": "display_data"
    },
    {
     "data": {
      "text/html": [
       " View sweep at <a href='https://wandb.ai/technionsaleem/GeoDL/sweeps/pqgcsuwo' target=\"_blank\">https://wandb.ai/technionsaleem/GeoDL/sweeps/pqgcsuwo</a>"
      ],
      "text/plain": [
       "<IPython.core.display.HTML object>"
      ]
     },
     "metadata": {},
     "output_type": "display_data"
    },
    {
     "data": {
      "text/html": [
       " View run at <a href='https://wandb.ai/technionsaleem/GeoDL/runs/66jqdg9m' target=\"_blank\">https://wandb.ai/technionsaleem/GeoDL/runs/66jqdg9m</a>"
      ],
      "text/plain": [
       "<IPython.core.display.HTML object>"
      ]
     },
     "metadata": {},
     "output_type": "display_data"
    },
    {
     "data": {
      "application/vnd.jupyter.widget-view+json": {
       "model_id": "a0724b7b7aa947a3999835c12d477a6c",
       "version_major": 2,
       "version_minor": 0
      },
      "text/plain": [
       "VBox(children=(Label(value='0.001 MB of 0.006 MB uploaded\\r'), FloatProgress(value=0.19457468184862692, max=1.…"
      ]
     },
     "metadata": {},
     "output_type": "display_data"
    },
    {
     "data": {
      "text/html": [
       "<style>\n",
       "    table.wandb td:nth-child(1) { padding: 0 10px; text-align: left ; width: auto;} td:nth-child(2) {text-align: left ; width: 100%}\n",
       "    .wandb-row { display: flex; flex-direction: row; flex-wrap: wrap; justify-content: flex-start; width: 100% }\n",
       "    .wandb-col { display: flex; flex-direction: column; flex-basis: 100%; flex: 1; padding: 10px; }\n",
       "    </style>\n",
       "<div class=\"wandb-row\"><div class=\"wandb-col\"><h3>Run history:</h3><br/><table class=\"wandb\"><tr><td>batch loss</td><td>▇▇▇▆▆▇▆▆▅▅▆▆▆▆▄▅▅▅▃▄▃▇▅▄█▄▄▃▄▄▃▃▂▄▃▁▄▂▂▂</td></tr><tr><td>batch train accuracy</td><td>▁▂▂▂▃▃▅▄▄▄▃▃▄▃▅▄▃▄▆▆▆▅▄▆▃▅▆▆▅▆▆▆▆▅▆█▅█▇▇</td></tr><tr><td>epoch</td><td>▁▁▁▂▂▂▃▃▃▃▃▃▄▄▄▅▅▅▆▆▆▆▆▆▇▇▇███</td></tr><tr><td>loss</td><td>█▇▆▅▄▃▄▃▂▁</td></tr><tr><td>train accuracy</td><td>▁▃▄▄▅▅▆▆▇█</td></tr><tr><td>val accuracy</td><td>▁▁▄▃▆▂▃▇▆█</td></tr></table><br/></div><div class=\"wandb-col\"><h3>Run summary:</h3><br/><table class=\"wandb\"><tr><td>batch loss</td><td>1.17581</td></tr><tr><td>batch train accuracy</td><td>0.59603</td></tr><tr><td>epoch</td><td>9</td></tr><tr><td>loss</td><td>1.27047</td></tr><tr><td>train accuracy</td><td>0.57876</td></tr><tr><td>val accuracy</td><td>0.31981</td></tr></table><br/></div></div>"
      ],
      "text/plain": [
       "<IPython.core.display.HTML object>"
      ]
     },
     "metadata": {},
     "output_type": "display_data"
    },
    {
     "data": {
      "text/html": [
       " View run <strong style=\"color:#cdcd00\">hardy-sweep-10</strong> at: <a href='https://wandb.ai/technionsaleem/GeoDL/runs/66jqdg9m' target=\"_blank\">https://wandb.ai/technionsaleem/GeoDL/runs/66jqdg9m</a><br/> View project at: <a href='https://wandb.ai/technionsaleem/GeoDL' target=\"_blank\">https://wandb.ai/technionsaleem/GeoDL</a><br/>Synced 4 W&B file(s), 0 media file(s), 0 artifact file(s) and 0 other file(s)"
      ],
      "text/plain": [
       "<IPython.core.display.HTML object>"
      ]
     },
     "metadata": {},
     "output_type": "display_data"
    },
    {
     "data": {
      "text/html": [
       "Find logs at: <code>.\\wandb\\run-20241002_152904-66jqdg9m\\logs</code>"
      ],
      "text/plain": [
       "<IPython.core.display.HTML object>"
      ]
     },
     "metadata": {},
     "output_type": "display_data"
    }
   ],
   "source": [
    "wandb.agent(sweep_id, train, count=10)"
   ]
  }
 ],
 "metadata": {
  "kernelspec": {
   "display_name": "Python 3",
   "language": "python",
   "name": "python3"
  },
  "language_info": {
   "codemirror_mode": {
    "name": "ipython",
    "version": 3
   },
   "file_extension": ".py",
   "mimetype": "text/x-python",
   "name": "python",
   "nbconvert_exporter": "python",
   "pygments_lexer": "ipython3",
   "version": "3.10.6"
  }
 },
 "nbformat": 4,
 "nbformat_minor": 2
}
